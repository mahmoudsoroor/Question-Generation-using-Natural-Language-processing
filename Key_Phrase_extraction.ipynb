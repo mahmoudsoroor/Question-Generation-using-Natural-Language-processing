{
  "nbformat": 4,
  "nbformat_minor": 0,
  "metadata": {
    "colab": {
      "name": "Key Phrase_extraction.ipynb",
      "provenance": [],
      "authorship_tag": "ABX9TyPomz1TrRaU0F1piRYBV1Jp",
      "include_colab_link": true
    },
    "kernelspec": {
      "name": "python3",
      "display_name": "Python 3"
    },
    "language_info": {
      "name": "python"
    }
  },
  "cells": [
    {
      "cell_type": "markdown",
      "metadata": {
        "id": "view-in-github",
        "colab_type": "text"
      },
      "source": [
        "<a href=\"https://colab.research.google.com/github/mahmoudsoroor/ZTechnium-Internship-NLP-/blob/main/Key_Phrase_extraction.ipynb\" target=\"_parent\"><img src=\"https://colab.research.google.com/assets/colab-badge.svg\" alt=\"Open In Colab\"/></a>"
      ]
    },
    {
      "cell_type": "code",
      "execution_count": null,
      "metadata": {
        "colab": {
          "base_uri": "https://localhost:8080/"
        },
        "id": "O7JoxYf_rDew",
        "outputId": "ce2316a0-e6f9-4c7f-d277-6e1f1c5135f5"
      },
      "outputs": [
        {
          "output_type": "stream",
          "name": "stdout",
          "text": [
            "Looking in indexes: https://pypi.org/simple, https://us-python.pkg.dev/colab-wheels/public/simple/\n",
            "Requirement already satisfied: trafilatura in /usr/local/lib/python3.7/dist-packages (1.3.0)\n",
            "Requirement already satisfied: justext>=3.0.0 in /usr/local/lib/python3.7/dist-packages (from trafilatura) (3.0.0)\n",
            "Requirement already satisfied: charset-normalizer>=2.1.0 in /usr/local/lib/python3.7/dist-packages (from trafilatura) (2.1.0)\n",
            "Requirement already satisfied: certifi in /usr/local/lib/python3.7/dist-packages (from trafilatura) (2022.6.15)\n",
            "Requirement already satisfied: courlan>=0.8.3 in /usr/local/lib/python3.7/dist-packages (from trafilatura) (0.8.3)\n",
            "Collecting urllib3<2,>=1.26\n",
            "  Using cached urllib3-1.26.11-py2.py3-none-any.whl (139 kB)\n",
            "Requirement already satisfied: htmldate>=1.3.0 in /usr/local/lib/python3.7/dist-packages (from trafilatura) (1.3.0)\n",
            "Requirement already satisfied: lxml>=4.6.4 in /usr/local/lib/python3.7/dist-packages (from trafilatura) (4.9.1)\n",
            "Requirement already satisfied: langcodes>=3.3.0 in /usr/local/lib/python3.7/dist-packages (from courlan>=0.8.3->trafilatura) (3.3.0)\n",
            "Requirement already satisfied: tld>=0.12.6 in /usr/local/lib/python3.7/dist-packages (from courlan>=0.8.3->trafilatura) (0.12.6)\n",
            "Requirement already satisfied: dateparser>=1.1.1 in /usr/local/lib/python3.7/dist-packages (from htmldate>=1.3.0->trafilatura) (1.1.1)\n",
            "Requirement already satisfied: python-dateutil>=2.8.2 in /usr/local/lib/python3.7/dist-packages (from htmldate>=1.3.0->trafilatura) (2.8.2)\n",
            "Requirement already satisfied: tzlocal in /usr/local/lib/python3.7/dist-packages (from dateparser>=1.1.1->htmldate>=1.3.0->trafilatura) (1.5.1)\n",
            "Requirement already satisfied: pytz in /usr/local/lib/python3.7/dist-packages (from dateparser>=1.1.1->htmldate>=1.3.0->trafilatura) (2022.1)\n",
            "Requirement already satisfied: regex!=2019.02.19,!=2021.8.27,<2022.3.15 in /usr/local/lib/python3.7/dist-packages (from dateparser>=1.1.1->htmldate>=1.3.0->trafilatura) (2022.3.2)\n",
            "Requirement already satisfied: six>=1.5 in /usr/local/lib/python3.7/dist-packages (from python-dateutil>=2.8.2->htmldate>=1.3.0->trafilatura) (1.11.0)\n",
            "Installing collected packages: urllib3\n",
            "  Attempting uninstall: urllib3\n",
            "    Found existing installation: urllib3 1.25.11\n",
            "    Uninstalling urllib3-1.25.11:\n",
            "      Successfully uninstalled urllib3-1.25.11\n",
            "\u001b[31mERROR: pip's dependency resolver does not currently take into account all the packages that are installed. This behaviour is the source of the following dependency conflicts.\n",
            "requests 2.23.0 requires urllib3!=1.25.0,!=1.25.1,<1.26,>=1.21.1, but you have urllib3 1.26.11 which is incompatible.\n",
            "google-api-core 1.31.6 requires six>=1.13.0, but you have six 1.11.0 which is incompatible.\n",
            "allennlp 2.1.0 requires spacy<3.1,>=2.1.0, but you have spacy 3.4.1 which is incompatible.\u001b[0m\n",
            "Successfully installed urllib3-1.26.11\n",
            "Looking in indexes: https://pypi.org/simple, https://us-python.pkg.dev/colab-wheels/public/simple/\n",
            "Requirement already satisfied: summa in /usr/local/lib/python3.7/dist-packages (1.2.0)\n",
            "Requirement already satisfied: scipy>=0.19 in /usr/local/lib/python3.7/dist-packages (from summa) (1.7.3)\n",
            "Requirement already satisfied: numpy<1.23.0,>=1.16.5 in /usr/local/lib/python3.7/dist-packages (from scipy>=0.19->summa) (1.21.6)\n",
            "Looking in indexes: https://pypi.org/simple, https://us-python.pkg.dev/colab-wheels/public/simple/\n",
            "Collecting git+https://github.com/smirnov-am/pytopicrank.git\n",
            "  Cloning https://github.com/smirnov-am/pytopicrank.git to /tmp/pip-req-build-yjpmv6dd\n",
            "  Running command git clone -q https://github.com/smirnov-am/pytopicrank.git /tmp/pip-req-build-yjpmv6dd\n",
            "Requirement already satisfied: decorator==4.2.1 in /usr/local/lib/python3.7/dist-packages (from pytopicrank==0.3.2) (4.2.1)\n",
            "Collecting langdetect==1.0.7\n",
            "  Using cached langdetect-1.0.7-py3-none-any.whl\n",
            "Collecting networkx==2.1\n",
            "  Using cached networkx-2.1-py2.py3-none-any.whl\n",
            "Collecting nltk==3.6.6\n",
            "  Using cached nltk-3.6.6-py3-none-any.whl (1.5 MB)\n",
            "Requirement already satisfied: numpy in /usr/local/lib/python3.7/dist-packages (from pytopicrank==0.3.2) (1.21.6)\n",
            "Collecting scikit-learn==0.19.1\n",
            "  Using cached scikit-learn-0.19.1.tar.gz (9.5 MB)\n",
            "Collecting scipy==1.0.0\n",
            "  Using cached scipy-1.0.0.tar.gz (15.2 MB)\n",
            "Requirement already satisfied: six==1.11.0 in /usr/local/lib/python3.7/dist-packages (from pytopicrank==0.3.2) (1.11.0)\n",
            "Requirement already satisfied: joblib in /usr/local/lib/python3.7/dist-packages (from nltk==3.6.6->pytopicrank==0.3.2) (1.1.0)\n",
            "Requirement already satisfied: tqdm in /usr/local/lib/python3.7/dist-packages (from nltk==3.6.6->pytopicrank==0.3.2) (4.64.0)\n",
            "Requirement already satisfied: click in /usr/local/lib/python3.7/dist-packages (from nltk==3.6.6->pytopicrank==0.3.2) (7.1.2)\n",
            "Requirement already satisfied: regex>=2021.8.3 in /usr/local/lib/python3.7/dist-packages (from nltk==3.6.6->pytopicrank==0.3.2) (2022.3.2)\n",
            "Building wheels for collected packages: pytopicrank, scikit-learn, scipy\n",
            "  Building wheel for pytopicrank (setup.py) ... \u001b[?25l\u001b[?25hdone\n",
            "  Created wheel for pytopicrank: filename=pytopicrank-0.3.2-py3-none-any.whl size=4125 sha256=de24056d3042b13117096a51689cda50590e7751864d747e4939d32c4453cb2e\n",
            "  Stored in directory: /tmp/pip-ephem-wheel-cache-9tdw_txw/wheels/2e/76/a5/db3fc4c3250e368c0bb49dc7cdb82cfe6f3503e63c63e692c9\n",
            "  Building wheel for scikit-learn (setup.py) ... \u001b[?25lerror\n",
            "\u001b[31m  ERROR: Failed building wheel for scikit-learn\u001b[0m\n",
            "\u001b[?25h  Running setup.py clean for scikit-learn\n",
            "  Building wheel for scipy (setup.py) ... \u001b[?25lerror\n",
            "\u001b[31m  ERROR: Failed building wheel for scipy\u001b[0m\n",
            "\u001b[?25h  Running setup.py clean for scipy\n",
            "\u001b[31m  ERROR: Failed cleaning build dir for scipy\u001b[0m\n",
            "Successfully built pytopicrank\n",
            "Failed to build scikit-learn scipy\n",
            "Installing collected packages: scipy, scikit-learn, nltk, networkx, langdetect, pytopicrank\n",
            "  Attempting uninstall: scipy\n",
            "    Found existing installation: scipy 1.7.3\n",
            "    Uninstalling scipy-1.7.3:\n",
            "      Successfully uninstalled scipy-1.7.3\n",
            "    Running setup.py install for scipy ... \u001b[?25l\u001b[?25herror\n",
            "  Rolling back uninstall of scipy\n",
            "  Moving to /usr/local/lib/python3.7/dist-packages/scipy-1.7.3.dist-info/\n",
            "   from /usr/local/lib/python3.7/dist-packages/~cipy-1.7.3.dist-info\n",
            "  Moving to /usr/local/lib/python3.7/dist-packages/scipy.libs/\n",
            "   from /usr/local/lib/python3.7/dist-packages/~cipy.libs\n",
            "  Moving to /usr/local/lib/python3.7/dist-packages/scipy/\n",
            "   from /usr/local/lib/python3.7/dist-packages/~cipy\n",
            "\u001b[31mERROR: Command errored out with exit status 1: /usr/bin/python3 -u -c 'import io, os, sys, setuptools, tokenize; sys.argv[0] = '\"'\"'/tmp/pip-install-at6xyii9/scipy_61009196e3d140d7a23a8481e835c1ec/setup.py'\"'\"'; __file__='\"'\"'/tmp/pip-install-at6xyii9/scipy_61009196e3d140d7a23a8481e835c1ec/setup.py'\"'\"';f = getattr(tokenize, '\"'\"'open'\"'\"', open)(__file__) if os.path.exists(__file__) else io.StringIO('\"'\"'from setuptools import setup; setup()'\"'\"');code = f.read().replace('\"'\"'\\r\\n'\"'\"', '\"'\"'\\n'\"'\"');f.close();exec(compile(code, __file__, '\"'\"'exec'\"'\"'))' install --record /tmp/pip-record-zjev63y5/install-record.txt --single-version-externally-managed --compile --install-headers /usr/local/include/python3.7/scipy Check the logs for full command output.\u001b[0m\n",
            "Looking in indexes: https://pypi.org/simple, https://us-python.pkg.dev/colab-wheels/public/simple/\n",
            "Collecting git+https://github.com/LIAAD/yake\n",
            "  Cloning https://github.com/LIAAD/yake to /tmp/pip-req-build-9n_wzwro\n",
            "  Running command git clone -q https://github.com/LIAAD/yake /tmp/pip-req-build-9n_wzwro\n",
            "Requirement already satisfied: tabulate in /usr/local/lib/python3.7/dist-packages (from yake==0.4.8) (0.8.10)\n",
            "Requirement already satisfied: click>=6.0 in /usr/local/lib/python3.7/dist-packages (from yake==0.4.8) (7.1.2)\n",
            "Requirement already satisfied: numpy in /usr/local/lib/python3.7/dist-packages (from yake==0.4.8) (1.21.6)\n",
            "Requirement already satisfied: segtok in /usr/local/lib/python3.7/dist-packages (from yake==0.4.8) (1.5.11)\n",
            "Requirement already satisfied: networkx in /usr/local/lib/python3.7/dist-packages (from yake==0.4.8) (2.6.3)\n",
            "Requirement already satisfied: jellyfish in /usr/local/lib/python3.7/dist-packages (from yake==0.4.8) (0.9.0)\n",
            "Requirement already satisfied: regex in /usr/local/lib/python3.7/dist-packages (from segtok->yake==0.4.8) (2022.3.2)\n",
            "Looking in indexes: https://pypi.org/simple, https://us-python.pkg.dev/colab-wheels/public/simple/\n",
            "Requirement already satisfied: keyBERT in /usr/local/lib/python3.7/dist-packages (0.6.0)\n",
            "Requirement already satisfied: numpy>=1.18.5 in /usr/local/lib/python3.7/dist-packages (from keyBERT) (1.21.6)\n",
            "Requirement already satisfied: scikit-learn>=0.22.2 in /usr/local/lib/python3.7/dist-packages (from keyBERT) (1.0.2)\n",
            "Requirement already satisfied: rich>=10.4.0 in /usr/local/lib/python3.7/dist-packages (from keyBERT) (12.5.1)\n",
            "Requirement already satisfied: sentence-transformers>=0.3.8 in /usr/local/lib/python3.7/dist-packages (from keyBERT) (2.2.2)\n",
            "Collecting typing-extensions<5.0,>=4.0.0\n",
            "  Downloading typing_extensions-4.3.0-py3-none-any.whl (25 kB)\n",
            "Requirement already satisfied: pygments<3.0.0,>=2.6.0 in /usr/local/lib/python3.7/dist-packages (from rich>=10.4.0->keyBERT) (2.6.1)\n",
            "Requirement already satisfied: commonmark<0.10.0,>=0.9.0 in /usr/local/lib/python3.7/dist-packages (from rich>=10.4.0->keyBERT) (0.9.1)\n",
            "Requirement already satisfied: joblib>=0.11 in /usr/local/lib/python3.7/dist-packages (from scikit-learn>=0.22.2->keyBERT) (1.1.0)\n",
            "Requirement already satisfied: threadpoolctl>=2.0.0 in /usr/local/lib/python3.7/dist-packages (from scikit-learn>=0.22.2->keyBERT) (3.1.0)\n",
            "Requirement already satisfied: scipy>=1.1.0 in /usr/local/lib/python3.7/dist-packages (from scikit-learn>=0.22.2->keyBERT) (1.7.3)\n",
            "Requirement already satisfied: sentencepiece in /usr/local/lib/python3.7/dist-packages (from sentence-transformers>=0.3.8->keyBERT) (0.1.95)\n",
            "Requirement already satisfied: nltk in /usr/local/lib/python3.7/dist-packages (from sentence-transformers>=0.3.8->keyBERT) (3.7)\n",
            "Requirement already satisfied: huggingface-hub>=0.4.0 in /usr/local/lib/python3.7/dist-packages (from sentence-transformers>=0.3.8->keyBERT) (0.8.1)\n",
            "Requirement already satisfied: torchvision in /usr/local/lib/python3.7/dist-packages (from sentence-transformers>=0.3.8->keyBERT) (0.8.2)\n",
            "Requirement already satisfied: torch>=1.6.0 in /usr/local/lib/python3.7/dist-packages (from sentence-transformers>=0.3.8->keyBERT) (1.7.1)\n",
            "Requirement already satisfied: tqdm in /usr/local/lib/python3.7/dist-packages (from sentence-transformers>=0.3.8->keyBERT) (4.64.0)\n",
            "Collecting transformers<5.0.0,>=4.6.0\n",
            "  Using cached transformers-4.21.1-py3-none-any.whl (4.7 MB)\n",
            "Requirement already satisfied: importlib-metadata in /usr/local/lib/python3.7/dist-packages (from huggingface-hub>=0.4.0->sentence-transformers>=0.3.8->keyBERT) (4.12.0)\n",
            "Requirement already satisfied: pyyaml>=5.1 in /usr/local/lib/python3.7/dist-packages (from huggingface-hub>=0.4.0->sentence-transformers>=0.3.8->keyBERT) (6.0)\n",
            "Requirement already satisfied: filelock in /usr/local/lib/python3.7/dist-packages (from huggingface-hub>=0.4.0->sentence-transformers>=0.3.8->keyBERT) (3.0.12)\n",
            "Requirement already satisfied: packaging>=20.9 in /usr/local/lib/python3.7/dist-packages (from huggingface-hub>=0.4.0->sentence-transformers>=0.3.8->keyBERT) (21.3)\n",
            "Requirement already satisfied: requests in /usr/local/lib/python3.7/dist-packages (from huggingface-hub>=0.4.0->sentence-transformers>=0.3.8->keyBERT) (2.23.0)\n",
            "Requirement already satisfied: pyparsing!=3.0.5,>=2.0.2 in /usr/local/lib/python3.7/dist-packages (from packaging>=20.9->huggingface-hub>=0.4.0->sentence-transformers>=0.3.8->keyBERT) (3.0.9)\n",
            "Requirement already satisfied: regex!=2019.12.17 in /usr/local/lib/python3.7/dist-packages (from transformers<5.0.0,>=4.6.0->sentence-transformers>=0.3.8->keyBERT) (2022.3.2)\n",
            "Collecting tokenizers!=0.11.3,<0.13,>=0.11.1\n",
            "  Using cached tokenizers-0.12.1-cp37-cp37m-manylinux_2_12_x86_64.manylinux2010_x86_64.whl (6.6 MB)\n",
            "Requirement already satisfied: zipp>=0.5 in /usr/local/lib/python3.7/dist-packages (from importlib-metadata->huggingface-hub>=0.4.0->sentence-transformers>=0.3.8->keyBERT) (3.8.1)\n",
            "Requirement already satisfied: click in /usr/local/lib/python3.7/dist-packages (from nltk->sentence-transformers>=0.3.8->keyBERT) (7.1.2)\n",
            "Requirement already satisfied: certifi>=2017.4.17 in /usr/local/lib/python3.7/dist-packages (from requests->huggingface-hub>=0.4.0->sentence-transformers>=0.3.8->keyBERT) (2022.6.15)\n",
            "Requirement already satisfied: chardet<4,>=3.0.2 in /usr/local/lib/python3.7/dist-packages (from requests->huggingface-hub>=0.4.0->sentence-transformers>=0.3.8->keyBERT) (3.0.4)\n",
            "Requirement already satisfied: idna<3,>=2.5 in /usr/local/lib/python3.7/dist-packages (from requests->huggingface-hub>=0.4.0->sentence-transformers>=0.3.8->keyBERT) (2.10)\n",
            "Collecting urllib3!=1.25.0,!=1.25.1,<1.26,>=1.21.1\n",
            "  Using cached urllib3-1.25.11-py2.py3-none-any.whl (127 kB)\n",
            "Requirement already satisfied: pillow>=4.1.1 in /usr/local/lib/python3.7/dist-packages (from torchvision->sentence-transformers>=0.3.8->keyBERT) (7.1.2)\n",
            "Installing collected packages: urllib3, typing-extensions, tokenizers, transformers\n",
            "  Attempting uninstall: urllib3\n",
            "    Found existing installation: urllib3 1.26.11\n",
            "    Uninstalling urllib3-1.26.11:\n",
            "      Successfully uninstalled urllib3-1.26.11\n",
            "  Attempting uninstall: typing-extensions\n",
            "    Found existing installation: typing-extensions 3.10.0.2\n",
            "    Uninstalling typing-extensions-3.10.0.2:\n",
            "      Successfully uninstalled typing-extensions-3.10.0.2\n",
            "  Attempting uninstall: tokenizers\n",
            "    Found existing installation: tokenizers 0.10.3\n",
            "    Uninstalling tokenizers-0.10.3:\n",
            "      Successfully uninstalled tokenizers-0.10.3\n",
            "  Attempting uninstall: transformers\n",
            "    Found existing installation: transformers 4.3.3\n",
            "    Uninstalling transformers-4.3.3:\n",
            "      Successfully uninstalled transformers-4.3.3\n",
            "\u001b[31mERROR: pip's dependency resolver does not currently take into account all the packages that are installed. This behaviour is the source of the following dependency conflicts.\n",
            "trafilatura 1.3.0 requires urllib3<2,>=1.26, but you have urllib3 1.25.11 which is incompatible.\n",
            "thinc 8.1.0 requires typing-extensions<4.2.0,>=3.7.4.1; python_version < \"3.8\", but you have typing-extensions 4.3.0 which is incompatible.\n",
            "tensorflow 2.8.2+zzzcolab20220719082949 requires six>=1.12.0, but you have six 1.11.0 which is incompatible.\n",
            "spacy 3.4.1 requires typing-extensions<4.2.0,>=3.7.4; python_version < \"3.8\", but you have typing-extensions 4.3.0 which is incompatible.\n",
            "htmldate 1.3.0 requires urllib3<2,>=1.26, but you have urllib3 1.25.11 which is incompatible.\n",
            "google-api-core 1.31.6 requires six>=1.13.0, but you have six 1.11.0 which is incompatible.\n",
            "courlan 0.8.3 requires urllib3<2,>=1.26, but you have urllib3 1.25.11 which is incompatible.\n",
            "allennlp 2.1.0 requires spacy<3.1,>=2.1.0, but you have spacy 3.4.1 which is incompatible.\n",
            "allennlp 2.1.0 requires transformers<4.4,>=4.1, but you have transformers 4.21.1 which is incompatible.\u001b[0m\n",
            "Successfully installed tokenizers-0.12.1 transformers-4.21.1 typing-extensions-4.3.0 urllib3-1.25.11\n",
            "Looking in indexes: https://pypi.org/simple, https://us-python.pkg.dev/colab-wheels/public/simple/\n",
            "Collecting git+https://github.com/boudinfl/pke.git\n",
            "  Cloning https://github.com/boudinfl/pke.git to /tmp/pip-req-build-z3r4zr6u\n",
            "  Running command git clone -q https://github.com/boudinfl/pke.git /tmp/pip-req-build-z3r4zr6u\n",
            "Requirement already satisfied: nltk in /usr/local/lib/python3.7/dist-packages (from pke==2.0.0) (3.7)\n",
            "Requirement already satisfied: networkx in /usr/local/lib/python3.7/dist-packages (from pke==2.0.0) (2.6.3)\n",
            "Requirement already satisfied: numpy in /usr/local/lib/python3.7/dist-packages (from pke==2.0.0) (1.21.6)\n",
            "Requirement already satisfied: scipy in /usr/local/lib/python3.7/dist-packages (from pke==2.0.0) (1.7.3)\n",
            "Requirement already satisfied: sklearn in /usr/local/lib/python3.7/dist-packages (from pke==2.0.0) (0.0)\n",
            "Requirement already satisfied: unidecode in /usr/local/lib/python3.7/dist-packages (from pke==2.0.0) (1.3.4)\n",
            "Requirement already satisfied: future in /usr/local/lib/python3.7/dist-packages (from pke==2.0.0) (0.16.0)\n",
            "Requirement already satisfied: joblib in /usr/local/lib/python3.7/dist-packages (from pke==2.0.0) (1.1.0)\n",
            "Requirement already satisfied: spacy>=3.2.3 in /usr/local/lib/python3.7/dist-packages (from pke==2.0.0) (3.4.1)\n",
            "Requirement already satisfied: spacy-loggers<2.0.0,>=1.0.0 in /usr/local/lib/python3.7/dist-packages (from spacy>=3.2.3->pke==2.0.0) (1.0.3)\n",
            "Requirement already satisfied: catalogue<2.1.0,>=2.0.6 in /usr/local/lib/python3.7/dist-packages (from spacy>=3.2.3->pke==2.0.0) (2.0.8)\n",
            "Requirement already satisfied: packaging>=20.0 in /usr/local/lib/python3.7/dist-packages (from spacy>=3.2.3->pke==2.0.0) (21.3)\n",
            "Collecting typing-extensions<4.2.0,>=3.7.4\n",
            "  Downloading typing_extensions-4.1.1-py3-none-any.whl (26 kB)\n",
            "Requirement already satisfied: typer<0.5.0,>=0.3.0 in /usr/local/lib/python3.7/dist-packages (from spacy>=3.2.3->pke==2.0.0) (0.3.2)\n",
            "Requirement already satisfied: preshed<3.1.0,>=3.0.2 in /usr/local/lib/python3.7/dist-packages (from spacy>=3.2.3->pke==2.0.0) (3.0.6)\n",
            "Requirement already satisfied: jinja2 in /usr/local/lib/python3.7/dist-packages (from spacy>=3.2.3->pke==2.0.0) (2.11.3)\n",
            "Requirement already satisfied: pydantic!=1.8,!=1.8.1,<1.10.0,>=1.7.4 in /usr/local/lib/python3.7/dist-packages (from spacy>=3.2.3->pke==2.0.0) (1.8.2)\n",
            "Requirement already satisfied: pathy>=0.3.5 in /usr/local/lib/python3.7/dist-packages (from spacy>=3.2.3->pke==2.0.0) (0.6.2)\n",
            "Requirement already satisfied: setuptools in /usr/local/lib/python3.7/dist-packages (from spacy>=3.2.3->pke==2.0.0) (57.4.0)\n",
            "Requirement already satisfied: spacy-legacy<3.1.0,>=3.0.9 in /usr/local/lib/python3.7/dist-packages (from spacy>=3.2.3->pke==2.0.0) (3.0.9)\n",
            "Requirement already satisfied: wasabi<1.1.0,>=0.9.1 in /usr/local/lib/python3.7/dist-packages (from spacy>=3.2.3->pke==2.0.0) (0.10.1)\n",
            "Requirement already satisfied: langcodes<4.0.0,>=3.2.0 in /usr/local/lib/python3.7/dist-packages (from spacy>=3.2.3->pke==2.0.0) (3.3.0)\n",
            "Requirement already satisfied: tqdm<5.0.0,>=4.38.0 in /usr/local/lib/python3.7/dist-packages (from spacy>=3.2.3->pke==2.0.0) (4.64.0)\n",
            "Requirement already satisfied: thinc<8.2.0,>=8.1.0 in /usr/local/lib/python3.7/dist-packages (from spacy>=3.2.3->pke==2.0.0) (8.1.0)\n",
            "Requirement already satisfied: cymem<2.1.0,>=2.0.2 in /usr/local/lib/python3.7/dist-packages (from spacy>=3.2.3->pke==2.0.0) (2.0.6)\n",
            "Requirement already satisfied: murmurhash<1.1.0,>=0.28.0 in /usr/local/lib/python3.7/dist-packages (from spacy>=3.2.3->pke==2.0.0) (1.0.7)\n",
            "Requirement already satisfied: requests<3.0.0,>=2.13.0 in /usr/local/lib/python3.7/dist-packages (from spacy>=3.2.3->pke==2.0.0) (2.23.0)\n",
            "Requirement already satisfied: srsly<3.0.0,>=2.4.3 in /usr/local/lib/python3.7/dist-packages (from spacy>=3.2.3->pke==2.0.0) (2.4.4)\n",
            "Requirement already satisfied: zipp>=0.5 in /usr/local/lib/python3.7/dist-packages (from catalogue<2.1.0,>=2.0.6->spacy>=3.2.3->pke==2.0.0) (3.8.1)\n",
            "Requirement already satisfied: pyparsing!=3.0.5,>=2.0.2 in /usr/local/lib/python3.7/dist-packages (from packaging>=20.0->spacy>=3.2.3->pke==2.0.0) (3.0.9)\n",
            "Requirement already satisfied: smart-open<6.0.0,>=5.2.1 in /usr/local/lib/python3.7/dist-packages (from pathy>=0.3.5->spacy>=3.2.3->pke==2.0.0) (5.2.1)\n",
            "Requirement already satisfied: urllib3!=1.25.0,!=1.25.1,<1.26,>=1.21.1 in /usr/local/lib/python3.7/dist-packages (from requests<3.0.0,>=2.13.0->spacy>=3.2.3->pke==2.0.0) (1.25.11)\n",
            "Requirement already satisfied: idna<3,>=2.5 in /usr/local/lib/python3.7/dist-packages (from requests<3.0.0,>=2.13.0->spacy>=3.2.3->pke==2.0.0) (2.10)\n",
            "Requirement already satisfied: chardet<4,>=3.0.2 in /usr/local/lib/python3.7/dist-packages (from requests<3.0.0,>=2.13.0->spacy>=3.2.3->pke==2.0.0) (3.0.4)\n",
            "Requirement already satisfied: certifi>=2017.4.17 in /usr/local/lib/python3.7/dist-packages (from requests<3.0.0,>=2.13.0->spacy>=3.2.3->pke==2.0.0) (2022.6.15)\n",
            "Requirement already satisfied: blis<0.8.0,>=0.7.8 in /usr/local/lib/python3.7/dist-packages (from thinc<8.2.0,>=8.1.0->spacy>=3.2.3->pke==2.0.0) (0.7.8)\n",
            "Requirement already satisfied: click<7.2.0,>=7.1.1 in /usr/local/lib/python3.7/dist-packages (from typer<0.5.0,>=0.3.0->spacy>=3.2.3->pke==2.0.0) (7.1.2)\n",
            "Requirement already satisfied: MarkupSafe>=0.23 in /usr/local/lib/python3.7/dist-packages (from jinja2->spacy>=3.2.3->pke==2.0.0) (2.0.1)\n",
            "Requirement already satisfied: regex>=2021.8.3 in /usr/local/lib/python3.7/dist-packages (from nltk->pke==2.0.0) (2022.3.2)\n",
            "Requirement already satisfied: scikit-learn in /usr/local/lib/python3.7/dist-packages (from sklearn->pke==2.0.0) (1.0.2)\n",
            "Requirement already satisfied: threadpoolctl>=2.0.0 in /usr/local/lib/python3.7/dist-packages (from scikit-learn->sklearn->pke==2.0.0) (3.1.0)\n",
            "Installing collected packages: typing-extensions\n",
            "  Attempting uninstall: typing-extensions\n",
            "    Found existing installation: typing-extensions 4.3.0\n",
            "    Uninstalling typing-extensions-4.3.0:\n",
            "      Successfully uninstalled typing-extensions-4.3.0\n",
            "\u001b[31mERROR: pip's dependency resolver does not currently take into account all the packages that are installed. This behaviour is the source of the following dependency conflicts.\n",
            "tensorflow 2.8.2+zzzcolab20220719082949 requires six>=1.12.0, but you have six 1.11.0 which is incompatible.\n",
            "allennlp 2.1.0 requires spacy<3.1,>=2.1.0, but you have spacy 3.4.1 which is incompatible.\n",
            "allennlp 2.1.0 requires transformers<4.4,>=4.1, but you have transformers 4.21.1 which is incompatible.\u001b[0m\n",
            "Successfully installed typing-extensions-4.1.1\n"
          ]
        }
      ],
      "source": [
        "!pip install trafilatura\n",
        "!pip install summa\n",
        "!pip install git+https://github.com/smirnov-am/pytopicrank.git\n",
        "!pip install git+https://github.com/LIAAD/yake\n",
        "!pip install keyBERT\n",
        "!pip install git+https://github.com/boudinfl/pke.git"
      ]
    },
    {
      "cell_type": "code",
      "source": [
        "import nltk\n",
        "nltk.download('stopwords')\n",
        "nltk.download('punkt')\n",
        "!pip install -U spacy\n",
        "!python -m spacy download en_core_web_sm\n",
        "import spacy\n",
        "nlp = spacy.load(\"en_core_web_sm\")\n",
        "! pip install flashtext"
      ],
      "metadata": {
        "colab": {
          "base_uri": "https://localhost:8080/"
        },
        "id": "tZgUzzLY5Tze",
        "outputId": "621053cd-df57-420f-cd6e-080b6d06dcf2"
      },
      "execution_count": null,
      "outputs": [
        {
          "output_type": "stream",
          "name": "stderr",
          "text": [
            "[nltk_data] Downloading package stopwords to /root/nltk_data...\n",
            "[nltk_data]   Package stopwords is already up-to-date!\n",
            "[nltk_data] Downloading package punkt to /root/nltk_data...\n",
            "[nltk_data]   Package punkt is already up-to-date!\n"
          ]
        },
        {
          "output_type": "stream",
          "name": "stdout",
          "text": [
            "Looking in indexes: https://pypi.org/simple, https://us-python.pkg.dev/colab-wheels/public/simple/\n",
            "Requirement already satisfied: spacy in /usr/local/lib/python3.7/dist-packages (3.4.1)\n",
            "Requirement already satisfied: preshed<3.1.0,>=3.0.2 in /usr/local/lib/python3.7/dist-packages (from spacy) (3.0.6)\n",
            "Requirement already satisfied: tqdm<5.0.0,>=4.38.0 in /usr/local/lib/python3.7/dist-packages (from spacy) (4.64.0)\n",
            "Requirement already satisfied: jinja2 in /usr/local/lib/python3.7/dist-packages (from spacy) (2.11.3)\n",
            "Requirement already satisfied: pathy>=0.3.5 in /usr/local/lib/python3.7/dist-packages (from spacy) (0.6.2)\n",
            "Requirement already satisfied: typer<0.5.0,>=0.3.0 in /usr/local/lib/python3.7/dist-packages (from spacy) (0.3.2)\n",
            "Requirement already satisfied: thinc<8.2.0,>=8.1.0 in /usr/local/lib/python3.7/dist-packages (from spacy) (8.1.0)\n",
            "Requirement already satisfied: langcodes<4.0.0,>=3.2.0 in /usr/local/lib/python3.7/dist-packages (from spacy) (3.3.0)\n",
            "Requirement already satisfied: packaging>=20.0 in /usr/local/lib/python3.7/dist-packages (from spacy) (21.3)\n",
            "Requirement already satisfied: catalogue<2.1.0,>=2.0.6 in /usr/local/lib/python3.7/dist-packages (from spacy) (2.0.8)\n",
            "Requirement already satisfied: pydantic!=1.8,!=1.8.1,<1.10.0,>=1.7.4 in /usr/local/lib/python3.7/dist-packages (from spacy) (1.8.2)\n",
            "Requirement already satisfied: typing-extensions<4.2.0,>=3.7.4 in /usr/local/lib/python3.7/dist-packages (from spacy) (4.1.1)\n",
            "Requirement already satisfied: spacy-loggers<2.0.0,>=1.0.0 in /usr/local/lib/python3.7/dist-packages (from spacy) (1.0.3)\n",
            "Requirement already satisfied: requests<3.0.0,>=2.13.0 in /usr/local/lib/python3.7/dist-packages (from spacy) (2.23.0)\n",
            "Requirement already satisfied: spacy-legacy<3.1.0,>=3.0.9 in /usr/local/lib/python3.7/dist-packages (from spacy) (3.0.9)\n",
            "Requirement already satisfied: murmurhash<1.1.0,>=0.28.0 in /usr/local/lib/python3.7/dist-packages (from spacy) (1.0.7)\n",
            "Requirement already satisfied: cymem<2.1.0,>=2.0.2 in /usr/local/lib/python3.7/dist-packages (from spacy) (2.0.6)\n",
            "Requirement already satisfied: numpy>=1.15.0 in /usr/local/lib/python3.7/dist-packages (from spacy) (1.21.6)\n",
            "Requirement already satisfied: setuptools in /usr/local/lib/python3.7/dist-packages (from spacy) (57.4.0)\n",
            "Requirement already satisfied: srsly<3.0.0,>=2.4.3 in /usr/local/lib/python3.7/dist-packages (from spacy) (2.4.4)\n",
            "Requirement already satisfied: wasabi<1.1.0,>=0.9.1 in /usr/local/lib/python3.7/dist-packages (from spacy) (0.10.1)\n",
            "Requirement already satisfied: zipp>=0.5 in /usr/local/lib/python3.7/dist-packages (from catalogue<2.1.0,>=2.0.6->spacy) (3.8.1)\n",
            "Requirement already satisfied: pyparsing!=3.0.5,>=2.0.2 in /usr/local/lib/python3.7/dist-packages (from packaging>=20.0->spacy) (3.0.9)\n",
            "Requirement already satisfied: smart-open<6.0.0,>=5.2.1 in /usr/local/lib/python3.7/dist-packages (from pathy>=0.3.5->spacy) (5.2.1)\n",
            "Requirement already satisfied: urllib3!=1.25.0,!=1.25.1,<1.26,>=1.21.1 in /usr/local/lib/python3.7/dist-packages (from requests<3.0.0,>=2.13.0->spacy) (1.25.11)\n",
            "Requirement already satisfied: idna<3,>=2.5 in /usr/local/lib/python3.7/dist-packages (from requests<3.0.0,>=2.13.0->spacy) (2.10)\n",
            "Requirement already satisfied: chardet<4,>=3.0.2 in /usr/local/lib/python3.7/dist-packages (from requests<3.0.0,>=2.13.0->spacy) (3.0.4)\n",
            "Requirement already satisfied: certifi>=2017.4.17 in /usr/local/lib/python3.7/dist-packages (from requests<3.0.0,>=2.13.0->spacy) (2022.6.15)\n",
            "Requirement already satisfied: blis<0.8.0,>=0.7.8 in /usr/local/lib/python3.7/dist-packages (from thinc<8.2.0,>=8.1.0->spacy) (0.7.8)\n",
            "Requirement already satisfied: click<7.2.0,>=7.1.1 in /usr/local/lib/python3.7/dist-packages (from typer<0.5.0,>=0.3.0->spacy) (7.1.2)\n",
            "Requirement already satisfied: MarkupSafe>=0.23 in /usr/local/lib/python3.7/dist-packages (from jinja2->spacy) (2.0.1)\n",
            "2022-08-16 23:20:24.727177: E tensorflow/stream_executor/cuda/cuda_driver.cc:271] failed call to cuInit: CUDA_ERROR_NO_DEVICE: no CUDA-capable device is detected\n",
            "Looking in indexes: https://pypi.org/simple, https://us-python.pkg.dev/colab-wheels/public/simple/\n",
            "Collecting en-core-web-sm==3.4.0\n",
            "  Downloading https://github.com/explosion/spacy-models/releases/download/en_core_web_sm-3.4.0/en_core_web_sm-3.4.0-py3-none-any.whl (12.8 MB)\n",
            "\u001b[K     |████████████████████████████████| 12.8 MB 7.8 MB/s \n",
            "\u001b[?25hRequirement already satisfied: spacy<3.5.0,>=3.4.0 in /usr/local/lib/python3.7/dist-packages (from en-core-web-sm==3.4.0) (3.4.1)\n",
            "Requirement already satisfied: tqdm<5.0.0,>=4.38.0 in /usr/local/lib/python3.7/dist-packages (from spacy<3.5.0,>=3.4.0->en-core-web-sm==3.4.0) (4.64.0)\n",
            "Requirement already satisfied: numpy>=1.15.0 in /usr/local/lib/python3.7/dist-packages (from spacy<3.5.0,>=3.4.0->en-core-web-sm==3.4.0) (1.21.6)\n",
            "Requirement already satisfied: cymem<2.1.0,>=2.0.2 in /usr/local/lib/python3.7/dist-packages (from spacy<3.5.0,>=3.4.0->en-core-web-sm==3.4.0) (2.0.6)\n",
            "Requirement already satisfied: wasabi<1.1.0,>=0.9.1 in /usr/local/lib/python3.7/dist-packages (from spacy<3.5.0,>=3.4.0->en-core-web-sm==3.4.0) (0.10.1)\n",
            "Requirement already satisfied: thinc<8.2.0,>=8.1.0 in /usr/local/lib/python3.7/dist-packages (from spacy<3.5.0,>=3.4.0->en-core-web-sm==3.4.0) (8.1.0)\n",
            "Requirement already satisfied: srsly<3.0.0,>=2.4.3 in /usr/local/lib/python3.7/dist-packages (from spacy<3.5.0,>=3.4.0->en-core-web-sm==3.4.0) (2.4.4)\n",
            "Requirement already satisfied: requests<3.0.0,>=2.13.0 in /usr/local/lib/python3.7/dist-packages (from spacy<3.5.0,>=3.4.0->en-core-web-sm==3.4.0) (2.23.0)\n",
            "Requirement already satisfied: jinja2 in /usr/local/lib/python3.7/dist-packages (from spacy<3.5.0,>=3.4.0->en-core-web-sm==3.4.0) (2.11.3)\n",
            "Requirement already satisfied: preshed<3.1.0,>=3.0.2 in /usr/local/lib/python3.7/dist-packages (from spacy<3.5.0,>=3.4.0->en-core-web-sm==3.4.0) (3.0.6)\n",
            "Requirement already satisfied: pathy>=0.3.5 in /usr/local/lib/python3.7/dist-packages (from spacy<3.5.0,>=3.4.0->en-core-web-sm==3.4.0) (0.6.2)\n",
            "Requirement already satisfied: typing-extensions<4.2.0,>=3.7.4 in /usr/local/lib/python3.7/dist-packages (from spacy<3.5.0,>=3.4.0->en-core-web-sm==3.4.0) (4.1.1)\n",
            "Requirement already satisfied: murmurhash<1.1.0,>=0.28.0 in /usr/local/lib/python3.7/dist-packages (from spacy<3.5.0,>=3.4.0->en-core-web-sm==3.4.0) (1.0.7)\n",
            "Requirement already satisfied: spacy-loggers<2.0.0,>=1.0.0 in /usr/local/lib/python3.7/dist-packages (from spacy<3.5.0,>=3.4.0->en-core-web-sm==3.4.0) (1.0.3)\n",
            "Requirement already satisfied: packaging>=20.0 in /usr/local/lib/python3.7/dist-packages (from spacy<3.5.0,>=3.4.0->en-core-web-sm==3.4.0) (21.3)\n",
            "Requirement already satisfied: pydantic!=1.8,!=1.8.1,<1.10.0,>=1.7.4 in /usr/local/lib/python3.7/dist-packages (from spacy<3.5.0,>=3.4.0->en-core-web-sm==3.4.0) (1.8.2)\n",
            "Requirement already satisfied: langcodes<4.0.0,>=3.2.0 in /usr/local/lib/python3.7/dist-packages (from spacy<3.5.0,>=3.4.0->en-core-web-sm==3.4.0) (3.3.0)\n",
            "Requirement already satisfied: catalogue<2.1.0,>=2.0.6 in /usr/local/lib/python3.7/dist-packages (from spacy<3.5.0,>=3.4.0->en-core-web-sm==3.4.0) (2.0.8)\n",
            "Requirement already satisfied: spacy-legacy<3.1.0,>=3.0.9 in /usr/local/lib/python3.7/dist-packages (from spacy<3.5.0,>=3.4.0->en-core-web-sm==3.4.0) (3.0.9)\n",
            "Requirement already satisfied: typer<0.5.0,>=0.3.0 in /usr/local/lib/python3.7/dist-packages (from spacy<3.5.0,>=3.4.0->en-core-web-sm==3.4.0) (0.3.2)\n",
            "Requirement already satisfied: setuptools in /usr/local/lib/python3.7/dist-packages (from spacy<3.5.0,>=3.4.0->en-core-web-sm==3.4.0) (57.4.0)\n",
            "Requirement already satisfied: zipp>=0.5 in /usr/local/lib/python3.7/dist-packages (from catalogue<2.1.0,>=2.0.6->spacy<3.5.0,>=3.4.0->en-core-web-sm==3.4.0) (3.8.1)\n",
            "Requirement already satisfied: pyparsing!=3.0.5,>=2.0.2 in /usr/local/lib/python3.7/dist-packages (from packaging>=20.0->spacy<3.5.0,>=3.4.0->en-core-web-sm==3.4.0) (3.0.9)\n",
            "Requirement already satisfied: smart-open<6.0.0,>=5.2.1 in /usr/local/lib/python3.7/dist-packages (from pathy>=0.3.5->spacy<3.5.0,>=3.4.0->en-core-web-sm==3.4.0) (5.2.1)\n",
            "Requirement already satisfied: idna<3,>=2.5 in /usr/local/lib/python3.7/dist-packages (from requests<3.0.0,>=2.13.0->spacy<3.5.0,>=3.4.0->en-core-web-sm==3.4.0) (2.10)\n",
            "Requirement already satisfied: urllib3!=1.25.0,!=1.25.1,<1.26,>=1.21.1 in /usr/local/lib/python3.7/dist-packages (from requests<3.0.0,>=2.13.0->spacy<3.5.0,>=3.4.0->en-core-web-sm==3.4.0) (1.25.11)\n",
            "Requirement already satisfied: certifi>=2017.4.17 in /usr/local/lib/python3.7/dist-packages (from requests<3.0.0,>=2.13.0->spacy<3.5.0,>=3.4.0->en-core-web-sm==3.4.0) (2022.6.15)\n",
            "Requirement already satisfied: chardet<4,>=3.0.2 in /usr/local/lib/python3.7/dist-packages (from requests<3.0.0,>=2.13.0->spacy<3.5.0,>=3.4.0->en-core-web-sm==3.4.0) (3.0.4)\n",
            "Requirement already satisfied: blis<0.8.0,>=0.7.8 in /usr/local/lib/python3.7/dist-packages (from thinc<8.2.0,>=8.1.0->spacy<3.5.0,>=3.4.0->en-core-web-sm==3.4.0) (0.7.8)\n",
            "Requirement already satisfied: click<7.2.0,>=7.1.1 in /usr/local/lib/python3.7/dist-packages (from typer<0.5.0,>=0.3.0->spacy<3.5.0,>=3.4.0->en-core-web-sm==3.4.0) (7.1.2)\n",
            "Requirement already satisfied: MarkupSafe>=0.23 in /usr/local/lib/python3.7/dist-packages (from jinja2->spacy<3.5.0,>=3.4.0->en-core-web-sm==3.4.0) (2.0.1)\n",
            "\u001b[38;5;2m✔ Download and installation successful\u001b[0m\n",
            "You can now load the package via spacy.load('en_core_web_sm')\n",
            "Looking in indexes: https://pypi.org/simple, https://us-python.pkg.dev/colab-wheels/public/simple/\n",
            "Requirement already satisfied: flashtext in /usr/local/lib/python3.7/dist-packages (2.7)\n"
          ]
        }
      ]
    },
    {
      "cell_type": "code",
      "source": [
        "# T5\n",
        "!pip install --quiet git+https://github.com/huggingface/transformers.git@5c00918681d6b4027701eb46cea8f795da0d4064\n",
        "!pip install --quiet sentencepiece==0.1.95\n",
        "\n",
        "# Allen NLP\n",
        "!pip install allennlp==2.1.0 allennlp-models==2.1.0"
      ],
      "metadata": {
        "colab": {
          "base_uri": "https://localhost:8080/",
          "height": 1000
        },
        "id": "H_0VUqN45-DS",
        "outputId": "071128ad-430c-4b3f-b23b-6e0ecb7f9f01"
      },
      "execution_count": null,
      "outputs": [
        {
          "output_type": "stream",
          "name": "stdout",
          "text": [
            "  Installing build dependencies ... \u001b[?25l\u001b[?25hdone\n",
            "  Getting requirements to build wheel ... \u001b[?25l\u001b[?25hdone\n",
            "    Preparing wheel metadata ... \u001b[?25l\u001b[?25hdone\n",
            "  Building wheel for transformers (PEP 517) ... \u001b[?25l\u001b[?25hdone\n",
            "\u001b[31mERROR: pip's dependency resolver does not currently take into account all the packages that are installed. This behaviour is the source of the following dependency conflicts.\n",
            "sentence-transformers 2.2.2 requires transformers<5.0.0,>=4.6.0, but you have transformers 4.6.0.dev0 which is incompatible.\n",
            "allennlp 2.1.0 requires spacy<3.1,>=2.1.0, but you have spacy 3.4.1 which is incompatible.\n",
            "allennlp 2.1.0 requires transformers<4.4,>=4.1, but you have transformers 4.6.0.dev0 which is incompatible.\u001b[0m\n",
            "Looking in indexes: https://pypi.org/simple, https://us-python.pkg.dev/colab-wheels/public/simple/\n",
            "Requirement already satisfied: allennlp==2.1.0 in /usr/local/lib/python3.7/dist-packages (2.1.0)\n",
            "Requirement already satisfied: allennlp-models==2.1.0 in /usr/local/lib/python3.7/dist-packages (2.1.0)\n",
            "Requirement already satisfied: torchvision<0.9.0,>=0.8.1 in /usr/local/lib/python3.7/dist-packages (from allennlp==2.1.0) (0.8.2)\n",
            "Collecting spacy<3.1,>=2.1.0\n",
            "  Using cached spacy-3.0.8-cp37-cp37m-manylinux_2_17_x86_64.manylinux2014_x86_64.whl (5.8 MB)\n",
            "Requirement already satisfied: tqdm>=4.19 in /usr/local/lib/python3.7/dist-packages (from allennlp==2.1.0) (4.64.0)\n",
            "Requirement already satisfied: h5py in /usr/local/lib/python3.7/dist-packages (from allennlp==2.1.0) (3.1.0)\n",
            "Requirement already satisfied: scipy in /usr/local/lib/python3.7/dist-packages (from allennlp==2.1.0) (1.7.3)\n",
            "Requirement already satisfied: requests>=2.18 in /usr/local/lib/python3.7/dist-packages (from allennlp==2.1.0) (2.23.0)\n",
            "Requirement already satisfied: jsonpickle in /usr/local/lib/python3.7/dist-packages (from allennlp==2.1.0) (2.2.0)\n",
            "Requirement already satisfied: scikit-learn in /usr/local/lib/python3.7/dist-packages (from allennlp==2.1.0) (1.0.2)\n",
            "Requirement already satisfied: filelock<3.1,>=3.0 in /usr/local/lib/python3.7/dist-packages (from allennlp==2.1.0) (3.0.12)\n",
            "Requirement already satisfied: torch<1.8.0,>=1.6.0 in /usr/local/lib/python3.7/dist-packages (from allennlp==2.1.0) (1.7.1)\n",
            "Requirement already satisfied: boto3<2.0,>=1.14 in /usr/local/lib/python3.7/dist-packages (from allennlp==2.1.0) (1.24.53)\n",
            "Requirement already satisfied: overrides==3.1.0 in /usr/local/lib/python3.7/dist-packages (from allennlp==2.1.0) (3.1.0)\n",
            "Requirement already satisfied: jsonnet>=0.10.0 in /usr/local/lib/python3.7/dist-packages (from allennlp==2.1.0) (0.18.0)\n",
            "Requirement already satisfied: numpy in /usr/local/lib/python3.7/dist-packages (from allennlp==2.1.0) (1.21.6)\n",
            "Requirement already satisfied: nltk in /usr/local/lib/python3.7/dist-packages (from allennlp==2.1.0) (3.7)\n",
            "Requirement already satisfied: tensorboardX>=1.2 in /usr/local/lib/python3.7/dist-packages (from allennlp==2.1.0) (2.5.1)\n",
            "Requirement already satisfied: sentencepiece in /usr/local/lib/python3.7/dist-packages (from allennlp==2.1.0) (0.1.95)\n",
            "Requirement already satisfied: pytest in /usr/local/lib/python3.7/dist-packages (from allennlp==2.1.0) (3.6.4)\n",
            "Requirement already satisfied: more-itertools in /usr/local/lib/python3.7/dist-packages (from allennlp==2.1.0) (8.14.0)\n",
            "Collecting transformers<4.4,>=4.1\n",
            "  Using cached transformers-4.3.3-py3-none-any.whl (1.9 MB)\n",
            "Requirement already satisfied: lmdb in /usr/local/lib/python3.7/dist-packages (from allennlp==2.1.0) (0.99)\n",
            "Requirement already satisfied: word2number>=1.1 in /usr/local/lib/python3.7/dist-packages (from allennlp-models==2.1.0) (1.1)\n",
            "Requirement already satisfied: ftfy in /usr/local/lib/python3.7/dist-packages (from allennlp-models==2.1.0) (6.1.1)\n",
            "Requirement already satisfied: py-rouge==1.1 in /usr/local/lib/python3.7/dist-packages (from allennlp-models==2.1.0) (1.1)\n",
            "Requirement already satisfied: conllu==4.4 in /usr/local/lib/python3.7/dist-packages (from allennlp-models==2.1.0) (4.4)\n",
            "Requirement already satisfied: s3transfer<0.7.0,>=0.6.0 in /usr/local/lib/python3.7/dist-packages (from boto3<2.0,>=1.14->allennlp==2.1.0) (0.6.0)\n",
            "Requirement already satisfied: botocore<1.28.0,>=1.27.53 in /usr/local/lib/python3.7/dist-packages (from boto3<2.0,>=1.14->allennlp==2.1.0) (1.27.53)\n",
            "Requirement already satisfied: jmespath<2.0.0,>=0.7.1 in /usr/local/lib/python3.7/dist-packages (from boto3<2.0,>=1.14->allennlp==2.1.0) (1.0.1)\n",
            "Requirement already satisfied: urllib3<1.27,>=1.25.4 in /usr/local/lib/python3.7/dist-packages (from botocore<1.28.0,>=1.27.53->boto3<2.0,>=1.14->allennlp==2.1.0) (1.25.11)\n",
            "Requirement already satisfied: python-dateutil<3.0.0,>=2.1 in /usr/local/lib/python3.7/dist-packages (from botocore<1.28.0,>=1.27.53->boto3<2.0,>=1.14->allennlp==2.1.0) (2.8.2)\n",
            "Requirement already satisfied: six>=1.5 in /usr/local/lib/python3.7/dist-packages (from python-dateutil<3.0.0,>=2.1->botocore<1.28.0,>=1.27.53->boto3<2.0,>=1.14->allennlp==2.1.0) (1.11.0)\n",
            "Requirement already satisfied: chardet<4,>=3.0.2 in /usr/local/lib/python3.7/dist-packages (from requests>=2.18->allennlp==2.1.0) (3.0.4)\n",
            "Requirement already satisfied: idna<3,>=2.5 in /usr/local/lib/python3.7/dist-packages (from requests>=2.18->allennlp==2.1.0) (2.10)\n",
            "Requirement already satisfied: certifi>=2017.4.17 in /usr/local/lib/python3.7/dist-packages (from requests>=2.18->allennlp==2.1.0) (2022.6.15)\n",
            "Requirement already satisfied: srsly<3.0.0,>=2.4.1 in /usr/local/lib/python3.7/dist-packages (from spacy<3.1,>=2.1.0->allennlp==2.1.0) (2.4.4)\n",
            "Requirement already satisfied: blis<0.8.0,>=0.4.0 in /usr/local/lib/python3.7/dist-packages (from spacy<3.1,>=2.1.0->allennlp==2.1.0) (0.7.8)\n",
            "Requirement already satisfied: catalogue<2.1.0,>=2.0.4 in /usr/local/lib/python3.7/dist-packages (from spacy<3.1,>=2.1.0->allennlp==2.1.0) (2.0.8)\n",
            "Collecting typing-extensions<4.0.0.0,>=3.7.4\n",
            "  Using cached typing_extensions-3.10.0.2-py3-none-any.whl (26 kB)\n",
            "Requirement already satisfied: murmurhash<1.1.0,>=0.28.0 in /usr/local/lib/python3.7/dist-packages (from spacy<3.1,>=2.1.0->allennlp==2.1.0) (1.0.7)\n",
            "Requirement already satisfied: jinja2 in /usr/local/lib/python3.7/dist-packages (from spacy<3.1,>=2.1.0->allennlp==2.1.0) (2.11.3)\n",
            "Requirement already satisfied: setuptools in /usr/local/lib/python3.7/dist-packages (from spacy<3.1,>=2.1.0->allennlp==2.1.0) (57.4.0)\n",
            "Requirement already satisfied: typer<0.4.0,>=0.3.0 in /usr/local/lib/python3.7/dist-packages (from spacy<3.1,>=2.1.0->allennlp==2.1.0) (0.3.2)\n",
            "Requirement already satisfied: packaging>=20.0 in /usr/local/lib/python3.7/dist-packages (from spacy<3.1,>=2.1.0->allennlp==2.1.0) (21.3)\n",
            "Requirement already satisfied: wasabi<1.1.0,>=0.8.1 in /usr/local/lib/python3.7/dist-packages (from spacy<3.1,>=2.1.0->allennlp==2.1.0) (0.10.1)\n",
            "Requirement already satisfied: cymem<2.1.0,>=2.0.2 in /usr/local/lib/python3.7/dist-packages (from spacy<3.1,>=2.1.0->allennlp==2.1.0) (2.0.6)\n",
            "Requirement already satisfied: preshed<3.1.0,>=3.0.2 in /usr/local/lib/python3.7/dist-packages (from spacy<3.1,>=2.1.0->allennlp==2.1.0) (3.0.6)\n",
            "Requirement already satisfied: pathy>=0.3.5 in /usr/local/lib/python3.7/dist-packages (from spacy<3.1,>=2.1.0->allennlp==2.1.0) (0.6.2)\n",
            "Requirement already satisfied: spacy-legacy<3.1.0,>=3.0.5 in /usr/local/lib/python3.7/dist-packages (from spacy<3.1,>=2.1.0->allennlp==2.1.0) (3.0.9)\n",
            "Collecting thinc<8.1.0,>=8.0.3\n",
            "  Using cached thinc-8.0.17-cp37-cp37m-manylinux_2_17_x86_64.manylinux2014_x86_64.whl (660 kB)\n",
            "Requirement already satisfied: pydantic!=1.8,!=1.8.1,<1.9.0,>=1.7.4 in /usr/local/lib/python3.7/dist-packages (from spacy<3.1,>=2.1.0->allennlp==2.1.0) (1.8.2)\n",
            "Requirement already satisfied: zipp>=0.5 in /usr/local/lib/python3.7/dist-packages (from catalogue<2.1.0,>=2.0.4->spacy<3.1,>=2.1.0->allennlp==2.1.0) (3.8.1)\n",
            "Requirement already satisfied: pyparsing!=3.0.5,>=2.0.2 in /usr/local/lib/python3.7/dist-packages (from packaging>=20.0->spacy<3.1,>=2.1.0->allennlp==2.1.0) (3.0.9)\n",
            "Requirement already satisfied: smart-open<6.0.0,>=5.2.1 in /usr/local/lib/python3.7/dist-packages (from pathy>=0.3.5->spacy<3.1,>=2.1.0->allennlp==2.1.0) (5.2.1)\n",
            "Requirement already satisfied: protobuf<=3.20.1,>=3.8.0 in /usr/local/lib/python3.7/dist-packages (from tensorboardX>=1.2->allennlp==2.1.0) (3.17.3)\n",
            "Requirement already satisfied: pillow>=4.1.1 in /usr/local/lib/python3.7/dist-packages (from torchvision<0.9.0,>=0.8.1->allennlp==2.1.0) (7.1.2)\n",
            "Requirement already satisfied: tokenizers<0.11,>=0.10.1 in /usr/local/lib/python3.7/dist-packages (from transformers<4.4,>=4.1->allennlp==2.1.0) (0.10.3)\n",
            "Requirement already satisfied: regex!=2019.12.17 in /usr/local/lib/python3.7/dist-packages (from transformers<4.4,>=4.1->allennlp==2.1.0) (2022.3.2)\n",
            "Requirement already satisfied: importlib-metadata in /usr/local/lib/python3.7/dist-packages (from transformers<4.4,>=4.1->allennlp==2.1.0) (4.12.0)\n",
            "Requirement already satisfied: sacremoses in /usr/local/lib/python3.7/dist-packages (from transformers<4.4,>=4.1->allennlp==2.1.0) (0.0.53)\n",
            "Requirement already satisfied: click<7.2.0,>=7.1.1 in /usr/local/lib/python3.7/dist-packages (from typer<0.4.0,>=0.3.0->spacy<3.1,>=2.1.0->allennlp==2.1.0) (7.1.2)\n",
            "Requirement already satisfied: wcwidth>=0.2.5 in /usr/local/lib/python3.7/dist-packages (from ftfy->allennlp-models==2.1.0) (0.2.5)\n",
            "Requirement already satisfied: cached-property in /usr/local/lib/python3.7/dist-packages (from h5py->allennlp==2.1.0) (1.5.2)\n",
            "Requirement already satisfied: MarkupSafe>=0.23 in /usr/local/lib/python3.7/dist-packages (from jinja2->spacy<3.1,>=2.1.0->allennlp==2.1.0) (2.0.1)\n",
            "Requirement already satisfied: joblib in /usr/local/lib/python3.7/dist-packages (from nltk->allennlp==2.1.0) (1.1.0)\n",
            "Requirement already satisfied: py>=1.5.0 in /usr/local/lib/python3.7/dist-packages (from pytest->allennlp==2.1.0) (1.11.0)\n",
            "Requirement already satisfied: attrs>=17.4.0 in /usr/local/lib/python3.7/dist-packages (from pytest->allennlp==2.1.0) (22.1.0)\n",
            "Requirement already satisfied: atomicwrites>=1.0 in /usr/local/lib/python3.7/dist-packages (from pytest->allennlp==2.1.0) (1.4.1)\n",
            "Requirement already satisfied: pluggy<0.8,>=0.5 in /usr/local/lib/python3.7/dist-packages (from pytest->allennlp==2.1.0) (0.7.1)\n",
            "Requirement already satisfied: threadpoolctl>=2.0.0 in /usr/local/lib/python3.7/dist-packages (from scikit-learn->allennlp==2.1.0) (3.1.0)\n",
            "Installing collected packages: typing-extensions, thinc, transformers, spacy\n",
            "  Attempting uninstall: typing-extensions\n",
            "    Found existing installation: typing-extensions 4.1.1\n",
            "    Uninstalling typing-extensions-4.1.1:\n",
            "      Successfully uninstalled typing-extensions-4.1.1\n",
            "  Attempting uninstall: thinc\n",
            "    Found existing installation: thinc 8.1.0\n",
            "    Uninstalling thinc-8.1.0:\n",
            "      Successfully uninstalled thinc-8.1.0\n",
            "  Attempting uninstall: transformers\n",
            "    Found existing installation: transformers 4.6.0.dev0\n",
            "    Uninstalling transformers-4.6.0.dev0:\n",
            "      Successfully uninstalled transformers-4.6.0.dev0\n",
            "  Attempting uninstall: spacy\n",
            "    Found existing installation: spacy 3.4.1\n",
            "    Uninstalling spacy-3.4.1:\n",
            "      Successfully uninstalled spacy-3.4.1\n",
            "\u001b[31mERROR: pip's dependency resolver does not currently take into account all the packages that are installed. This behaviour is the source of the following dependency conflicts.\n",
            "tensorflow 2.8.2+zzzcolab20220719082949 requires six>=1.12.0, but you have six 1.11.0 which is incompatible.\n",
            "sentence-transformers 2.2.2 requires transformers<5.0.0,>=4.6.0, but you have transformers 4.3.3 which is incompatible.\n",
            "rich 12.5.1 requires typing-extensions<5.0,>=4.0.0; python_version < \"3.9\", but you have typing-extensions 3.10.0.2 which is incompatible.\n",
            "pke 2.0.0 requires spacy>=3.2.3, but you have spacy 3.0.8 which is incompatible.\n",
            "en-core-web-sm 3.4.0 requires spacy<3.5.0,>=3.4.0, but you have spacy 3.0.8 which is incompatible.\u001b[0m\n",
            "Successfully installed spacy-3.0.8 thinc-8.0.17 transformers-4.3.3 typing-extensions-3.10.0.2\n"
          ]
        },
        {
          "output_type": "display_data",
          "data": {
            "application/vnd.colab-display-data+json": {
              "pip_warning": {
                "packages": [
                  "spacy",
                  "thinc",
                  "typing_extensions"
                ]
              }
            }
          },
          "metadata": {}
        }
      ]
    },
    {
      "cell_type": "code",
      "source": [
        "import trafilatura\n",
        "import pandas as pd\n",
        "import numpy as np\n",
        "import unicodedata\n",
        "from spacy import displacy\n",
        "import nltk\n",
        "from nltk.stem import PorterStemmer , SnowballStemmer ,LancasterStemmer , WordNetLemmatizer\n",
        "from nltk.tokenize import sent_tokenize , word_tokenize\n",
        "import re\n",
        "import os\n",
        "import string\n",
        "import pke\n",
        "from sklearn.feature_extraction.text import TfidfVectorizer"
      ],
      "metadata": {
        "colab": {
          "base_uri": "https://localhost:8080/"
        },
        "id": "Jqxtucrb5XK6",
        "outputId": "83062773-fe76-4ef2-f3eb-f249fc7d8329"
      },
      "execution_count": null,
      "outputs": [
        {
          "output_type": "stream",
          "name": "stdout",
          "text": [
            "time: 5.62 s (started: 2022-08-17 00:27:36 +00:00)\n"
          ]
        }
      ]
    },
    {
      "cell_type": "code",
      "source": [
        ""
      ],
      "metadata": {
        "id": "ep5a64PXDsDp"
      },
      "execution_count": null,
      "outputs": []
    },
    {
      "cell_type": "markdown",
      "source": [
        "read text"
      ],
      "metadata": {
        "id": "gX3vV95RDtJC"
      }
    },
    {
      "cell_type": "code",
      "source": [
        "path = \"/content/Skill_BOK.txt\"\n",
        "with open(path,'rb') as f:\n",
        "    text = f.read()\n",
        "text = text.decode(\"utf-16\")\n",
        "\n"
      ],
      "metadata": {
        "colab": {
          "base_uri": "https://localhost:8080/"
        },
        "id": "9LFwFvm57CNs",
        "outputId": "3dc9be55-b6a3-4888-e89b-eaec6ff5f61e"
      },
      "execution_count": null,
      "outputs": [
        {
          "output_type": "stream",
          "name": "stdout",
          "text": [
            "time: 2.94 ms (started: 2022-08-16 23:45:38 +00:00)\n"
          ]
        }
      ]
    },
    {
      "cell_type": "code",
      "source": [
        "text"
      ],
      "metadata": {
        "colab": {
          "base_uri": "https://localhost:8080/",
          "height": 244
        },
        "id": "aRUFOgwM_6WP",
        "outputId": "e3f099cb-4457-4adc-d9b5-00373a52c246"
      },
      "execution_count": null,
      "outputs": [
        {
          "output_type": "execute_result",
          "data": {
            "text/plain": [
              "'Python (programming language)\\r\\nFrom Wikipedia, the free encyclopedia\\r\\nPython is an interpreted high-level general-purpose programming language. Its design philosophy emphasizes code readability with its use of significant indentation. Its language constructs as well as its object-oriented approach aim to help programmers write clear, logical code for small and large-scale projects.[30]\\r\\n\\r\\nPython is dynamically-typed and garbage-collected. It supports multiple programming paradigms, including structured (particularly, procedural), object-oriented and functional programming. It is often described as a \"batteries included\" language due to its comprehensive standard library.[31]\\r\\n\\r\\nGuido van Rossum began working on Python in the late 1980s, as a successor to the ABC programming language, and first released it in 1991 as Python 0.9.0.[32] Python 2.0 was released in 2000 and introduced new features, such as list comprehensions and a garbage collection system using reference counting. Python 3.0 was released in 2008 and was a major revision of the language that is not completely backward-compatible. Python 2 was discontinued with version 2.7.18 in 2020.[33]\\r\\n\\r\\nPython consistently ranks as one of the most popular programming languages.[34][35][36][37]\\r\\nHistory\\r\\nPython was conceived in the late 1980s[38] by Guido van Rossum at Centrum Wiskunde & Informatica (CWI) in the Netherlands as a successor to ABC programming language, which was inspired by SETL,[39] capable of exception handling and interfacing with the Amoeba operating system.[10] Its implementation began in December 1989.[40] Van Rossum shouldered sole responsibility for the project, as the lead developer, until 12 July 2018, when he announced his \"permanent vacation\" from his responsibilities as Python\\'s \"Benevolent Dictator For Life\", a title the Python community bestowed upon him to reflect his long-term commitment as the project\\'s chief decision-maker.[41] In January 2019, active Python core developers elected a five-member \"Steering Council\" to lead the project.[42][43]\\r\\n\\r\\nPython 2.0 was released on 16 October 2000, with many major new features, including a cycle-detecting garbage collector and support for Unicode.[44]\\r\\n\\r\\nPython 3.0 was released on 3 December 2008. It was a major revision of the language that is not completely backward-compatible.[45] Many of its major features were backported to Python 2.6.x[46] and 2.7.x version series. Releases of Python 3 include the 2to3 utility, which automates the translation of Python 2 code to Python 3.[47]\\r\\n\\r\\nPython 2.7\\'s end-of-life date was initially set at 2015 then postponed to 2020 out of concern that a large body of existing code could not easily be forward-ported to Python 3.[48][49] No more security patches or other improvements will be released for it.[50][51] With Python 2\\'s end-of-life, only Python 3.6.x[52] and later are supported.\\r\\n\\r\\nPython 3.9.2 and 3.8.8 were expedited[53] as all versions of Python (including 2.7[54]) had security issues, leading to possible remote code execution[55] and web cache poisoning.[56]\\r\\n\\r\\nDesign philosophy and features\\r\\nPython is a multi-paradigm programming language. Object-oriented programming and structured programming are fully supported, and many of its features support functional programming and aspect-oriented programming (including by metaprogramming[57] and metaobjects (magic methods)).[58] Many other paradigms are supported via extensions, including design by contract[59][60] and logic programming.[61]\\r\\n\\r\\nPython uses dynamic typing and a combination of reference counting and a cycle-detecting garbage collector for memory management.[62] It also features dynamic name resolution (late binding), which binds method and variable names during program execution.\\r\\n\\r\\nPython\\'s design offers some support for functional programming in the Lisp tradition. It has filter,mapandreduce functions; list comprehensions, dictionaries, sets, and generator expressions.[63] The standard library has two modules (itertools and functools) that implement functional tools borrowed from Haskell and Standard ML.[64]\\r\\n\\r\\nThe language\\'s core philosophy is summarized in the document The Zen of Python (PEP 20), which includes aphorisms such as:[65]\\r\\n\\r\\nBeautiful is better than ugly.\\r\\nExplicit is better than implicit.\\r\\nSimple is better than complex.\\r\\nComplex is better than complicated.\\r\\nReadability counts.\\r\\nRather than having all of its functionality built into its core, Python was designed to be highly extensible (with modules). This compact modularity has made it particularly popular as a means of adding programmable interfaces to existing applications. Van Rossum\\'s vision of a small core language with a large standard library and easily extensible interpreter stemmed from his frustrations with ABC, which espoused the opposite approach.[38] It is often described as a \"batteries included\" language due to its comprehensive standard library.[66]\\r\\n\\r\\nPython strives for a simpler, less-cluttered syntax and grammar while giving developers a choice in their coding methodology. In contrast to Perl\\'s \"there is more than one way to do it\" motto, Python embraces a \"there should be one— and preferably only one —obvious way to do it\" design philosophy.[65] Alex Martelli, a Fellow at the Python Software Foundation and Python book author, writes that \"To describe something as \\'clever\\' is not considered a compliment in the Python culture.\"[67]\\r\\n\\r\\nPython\\'s developers strive to avoid premature optimization, and reject patches to non-critical parts of the CPython reference implementation that would offer marginal increases in speed at the cost of clarity.[68] When speed is important, a Python programmer can move time-critical functions to extension modules written in languages such as C, or use PyPy, a just-in-time compiler. Cython is also available, which translates a Python script into C and makes direct C-level API calls into the Python interpreter.\\r\\n\\r\\nPython\\'s developers aim for the language to be fun to use. This is reflected in its name—a tribute to the British comedy group Monty Python[69]—and in occasionally playful approaches to tutorials and reference materials, such as examples that refer to spam and eggs (a reference to a Monty Python sketch) instead of the standard foo and bar.[70][71]\\r\\n\\r\\nA common neologism in the Python community is pythonic, which can have a wide range of meanings related to program style. To say that code is pythonic is to say that it uses Python idioms well, that it is natural or shows fluency in the language, that it conforms with Python\\'s minimalist philosophy and emphasis on readability. In contrast, code that is difficult to understand or reads like a rough transcription from another programming language is called unpythonic.[72][73]\\r\\n\\r\\nUsers and admirers of Python, especially those considered knowledgeable or experienced, are often referred to as Pythonistas.[74][75]\\r\\n\\r\\nSyntax and semantics\\r\\nMain article: Python syntax and semantics\\r\\nPython is meant to be an easily readable language. Its formatting is visually uncluttered, and it often uses English keywords where other languages use punctuation. Unlike many other languages, it does not use curly brackets to delimit blocks, and semicolons after statements are allowed but are rarely, if ever, used. It has fewer syntactic exceptions and special cases than C or Pascal.[76]\\r\\n\\r\\nIndentation\\r\\nMain article: Python syntax and semantics § Indentation\\r\\nPython uses whitespace indentation, rather than curly brackets or keywords, to delimit blocks. An increase in indentation comes after certain statements; a decrease in indentation signifies the end of the current block.[77] Thus, the program\\'s visual structure accurately represents the program\\'s semantic structure.[78] This feature is sometimes termed the off-side rule, which some other languages share, but in most languages indentation does not have any semantic meaning. The recommended indent size is four spaces.[79]\\r\\n\\r\\nStatements and control flow\\r\\nPython\\'s statements include (among others):\\r\\n\\r\\nThe assignment statement, using a single equals sign =.\\r\\nThe if statement, which conditionally executes a block of code, along with else and elif (a contraction of else-if).\\r\\nThe for statement, which iterates over an iterable object, capturing each element to a local variable for use by the attached block.\\r\\nThe while statement, which executes a block of code as long as its condition is true.\\r\\nThe try statement, which allows exceptions raised in its attached code block to be caught and handled by except clauses; it also ensures that clean-up code in a finally block will always be run regardless of how the block exits.\\r\\nThe raise statement, used to raise a specified exception or re-raise a caught exception.\\r\\nThe class statement, which executes a block of code and attaches its local namespace to a class, for use in object-oriented programming.\\r\\nيبلميبةملنةيمبنلةيمنبةلمنيب يبل ينمبةل يمبنةل 0يب . يبلمويلك\\r\\nThe def statement, which defines a function or method.\\r\\nThe with statement, which encloses a code block within a context manager (for example, acquiring a lock before the block of code is run and releasing the lock afterwards, or opening a file and then closing it), allowing resource-acquisition-is-initialization (RAII)-like behavior and replaces a common try/finally idiom.[80]\\r\\nThe break statement, exits from a loop.\\r\\nThe continue statement, skips this iteration and continues with the next item.\\r\\nThe del statement, removes a variable, which means the reference from the name to the value is deleted and trying to use that variable will cause an error. A deleted variable can be reassigned.\\r\\nThe pass statement, which serves as a NOP. It is syntactically needed to create an empty code block.\\r\\nThe assert statement, used during debugging to check for conditions that should apply.\\r\\nThe yield statement, which returns a value from a generator function and yield is also an operator. This form is used to implement coroutines.\\r\\nThe return statement, used to return a value from a function.\\r\\nThe import statement, which is used to import modules whose functions or variables can be used in the current program.\\r\\nThe assignment statement (=) operates by binding a name as a reference to a separate, dynamically-allocated object. Variables may subsequently be rebound at any time to any object. In Python, a variable name is a generic reference holder and does not have a fixed data type associated with it. However, at a given time, a variable will refer to some object, which will have a type. This is referred to as dynamic typing and is contrasted with statically-typed programming languages, where each variable may only contain values of a certain type.\\r\\n\\r\\nPython does not support tail call optimization or first-class continuations, and, according to Guido van Rossum, it never will.[81][82] However, better support for coroutine-like functionality is provided, by extending Python\\'s generators.[83] Before 2.5, generators were lazy iterators; information was passed unidirectionally out of the generator. From Python 2.5, it is possible to pass information back into a generator function, and from Python 3.3, the information can be passed through multiple stack levels.[84]\\r\\n\\r\\nExpressions\\r\\nSome Python expressions are similar to those found in languages such as C and Java, while some are not:\\r\\n\\r\\nAddition, subtraction, and multiplication are the same, but the behavior of division differs. There are two types of divisions in Python. They are floor division (or integer division) // and floating-point/division.[85] Python also uses the ** operator for exponentiation.\\r\\nFrom Python 3.5, the new @ infix operator was introduced. It is intended to be used by libraries such as NumPy for matrix multiplication.[86][87]\\r\\nFrom Python 3.8, the syntax :=, called the \\'walrus operator\\' was introduced. It assigns values to variables as part of a larger expression.[88]\\r\\nIn Python, == compares by value, versus Java, which compares numerics by value[89] and objects by reference.[90] (Value comparisons in Java on objects can be performed with the equals() method.) Python\\'s is operator may be used to compare object identities (comparison by reference). In Python, comparisons may be chained, for example a <= b <= c.\\r\\nPython uses the words and, or, not for its boolean operators rather than the symbolic &&, ||, ! used in Java and C.\\r\\nPython has a type of expression termed a list comprehension as well as a more general expression termed a generator expression.[63]\\r\\nAnonymous functions are implemented using lambda expressions; however, these are limited in that the body can only be one expression.\\r\\nConditional expressions in Python are written as x if c else y[91] (different in order of operands from the c ? x : y operator common to many other languages).\\r\\nPython makes a distinction between lists and tuples. Lists are written as [1, 2, 3], are mutable, and cannot be used as the keys of dictionaries (dictionary keys must be immutable in Python). Tuples are written as (1, 2, 3), are immutable and thus can be used as the keys of dictionaries, provided all elements of the tuple are immutable. The + operator can be used to concatenate two tuples, which does not directly modify their contents, but rather produces a new tuple containing the elements of both provided tuples. Thus, given the variable t initially equal to (1, 2, 3), executing t = t + (4, 5) first evaluates t + (4, 5), which yields (1, 2, 3, 4, 5), which is then assigned back to t, thereby effectively \"modifying the contents\" of t, while conforming to the immutable nature of tuple objects. Parentheses are optional for tuples in unambiguous contexts.[92]\\r\\nPython features sequence unpacking wherein multiple expressions, each evaluating to anything that can be assigned to (a variable, a writable property, etc.), are associated in an identical manner to that forming tuple literals and, as a whole, are put on the left-hand side of the equal sign in an assignment statement. The statement expects an iterable object on the right-hand side of the equal sign that produces the same number of values as the provided writable expressions when iterated through and will iterate through it, assigning each of the produced values to the corresponding expression on the left.[93]\\r\\nPython has a \"string format\" operator %. This functions analogously to printf format strings in C, e.g. \"spam=%s eggs=%d\" % (\"blah\", 2) evaluates to \"spam=blah eggs=2\". In Python 3 and 2.6+, this was supplemented by the format() method of the str class, e.g. \"spam={0} eggs={1}\".format(\"blah\", 2). Python 3.6 added \"f-strings\": blah = \"blah\"; eggs = 2; f\\'spam={blah} eggs={eggs}\\'.[94]\\r\\nStrings in Python can be concatenated, by \"adding\" them (same operator as for adding integers and floats). E.g. \"spam\" + \"eggs\" returns \"spameggs\". Even if your strings contain numbers, they are still added as strings rather than integers. E.g. \"2\" + \"2\" returns \"22\".\\r\\nPython has various kinds of string literals:\\r\\nStrings delimited by single or double quote marks. Unlike in Unix shells, Perl and Perl-influenced languages, single quote marks and double quote marks function identically. Both kinds of string use the backslash (\\\\) as an escape character. String interpolation became available in Python 3.6 as \"formatted string literals\".[94]\\r\\nTriple-quoted strings, which begin and end with a series of three single or double quote marks. They may span multiple lines and function like here documents in shells, Perl and Ruby.\\r\\nRaw string varieties, denoted by prefixing the string literal with an r. Escape sequences are not interpreted; hence raw strings are useful where literal backslashes are common, such as regular expressions and Windows-style paths. Compare \"@-quoting\" in C#.\\r\\nPython has array index and array slicing expressions on lists, denoted as a[key], a[start:stop] or a[start:stop:step]. Indexes are zero-based, and negative indexes are relative to the end. Slices take elements from the start index up to, but not including, the stop index. The third slice parameter, called step or stride, allows elements to be skipped and reversed. Slice indexes may be omitted, for example a[:] returns a copy of the entire list. Each element of a slice is a shallow copy.\\r\\nIn Python, a distinction between expressions and statements is rigidly enforced, in contrast to languages such as Common Lisp, Scheme, or Ruby. This leads to duplicating some functionality. For example:\\r\\n\\r\\nList comprehensions vs. for-loops\\r\\nConditional expressions vs. if blocks\\r\\nThe eval() vs. exec() built-in functions (in Python 2, exec is a statement); the former is for expressions, the latter is for statements.\\r\\nStatements cannot be a part of an expression, so list and other comprehensions or lambda expressions, all being expressions, cannot contain statements. A particular case of this is that an assignment statement such as a = 1 cannot form part of the conditional expression of a conditional statement. This has the advantage of avoiding a classic C error of mistaking an assignment operator = for an equality operator == in conditions: if (c = 1) { ... } is syntactically valid (but probably unintended) C code but if c = 1: ... causes a syntax error in Python.\\r\\n\\r\\nMethods\\r\\nMethods on objects are functions attached to the object\\'s class; the syntax instance.method(argument) is, for normal methods and functions, syntactic sugar for Class.method(instance, argument). Python methods have an explicit self parameter to access instance data, in contrast to the implicit self (or this) in some other object-oriented programming languages (e.g., C++, Java, Objective-C, or Ruby).[95] Apart from this, Python also provides methods, often called dunder methods (due to their names beginning and ending with double-underscores), to allow user-defined classes to modify how they are handled by native operations such as length, comparison, in arithmetic operations, type conversion, and many more.[96]\\r\\n\\r\\nTyping\\r\\nPython uses duck typing and has typed objects but untyped variable names. Type constraints are not checked at compile time; rather, operations on an object may fail, signifying that the given object is not of a suitable type. Despite being dynamically-typed, Python is strongly-typed, forbidding operations that are not well-defined (for example, adding a number to a string) rather than silently attempting to make sense of them.\\r\\n\\r\\nPython allows programmers to define their own types using classes, which are most often used for object-oriented programming. New instances of classes are constructed by calling the class (for example, SpamClass() or EggsClass()), and the classes are instances of the metaclass type (itself an instance of itself), allowing metaprogramming and reflection.\\r\\n\\r\\nBefore version 3.0, Python had two kinds of classes: old-style and new-style.[97] The syntax of both styles is the same, the difference being whether the class object is inherited from, directly or indirectly (all new-style classes inherit from object and are instances of type). In versions of Python 2 from Python 2.2 onwards, both kinds of classes can be used. Old-style classes were eliminated in Python 3.0.\\r\\n\\r\\nThe long-term plan is to support gradual typing[98] and from Python 3.5, the syntax of the language allows specifying static types but they are not checked in the default implementation, CPython. An experimental optional static type checker named mypy supports compile-time type checking.[99]\\r\\n\\r\\nArithmetic operations\\r\\nPython has the usual symbols for arithmetic operators (+, -, *, /), the floor division operator // and the modulo operation % (where the remainder can be negative, e.g. 4 % -3 == -2). It also has ** for exponentiation, e.g. 5**3 == 125 and 9**0.5 == 3.0, and a matrix‑multiplication operator @ .[103] These operators work like in traditional math; with the same precedence rules, the operators infix (+ and - can also be unary to represent positive and negative numbers respectively).\\r\\n\\r\\nThe division between integers produces floating-point results. The behavior of division has changed significantly over time:[104]\\r\\n\\r\\nCurrent Python (i.e. since 3.0) changed / to always be floating-point division, e.g. 5/2 == 2.5.\\r\\nPython 2.2 changed integer division to round towards negative infinity, e.g. 7/3 == 2 and -7/3 == -3. The floor division // operator was introduced. So 7//3 == 2, -7//3 == -3, 7.5//3 == 2.0 and -7.5//3 == -3.0. Adding from __future__ import division causes a module to use Python 3.0 rules for division (see next).\\r\\nPython 2.1 and earlier used C\\'s division behavior. The / operator is integer division if both operands are integers, and floating-point division otherwise. Integer division rounds towards 0, e.g. 7/3 == 2 and -7/3 == -2.\\r\\nIn Python terms, / is true division (or simply division), and // is floor division. / before version 3.0 is classic division.[104]\\r\\n\\r\\nRounding towards negative infinity, though different from most languages, adds consistency. For instance, it means that the equation (a + b)//b == a//b + 1 is always true. It also means that the equation b*(a//b) + a%b == a is valid for both positive and negative values of a. However, maintaining the validity of this equation means that while the result of a%b is, as expected, in the half-open interval [0, b), where b is a positive integer, it has to lie in the interval (b, 0] when b is negative.[105]\\r\\n\\r\\nPython provides a round function for rounding a float to the nearest integer. For tie-breaking, Python 3 uses round to even: round(1.5) and round(2.5) both produce 2.[106] Versions before 3 used round-away-from-zero: round(0.5) is 1.0, round(-0.5) is −1.0.[107]\\r\\n\\r\\nPython allows boolean expressions with multiple equality relations in a manner that is consistent with general use in mathematics. For example, the expression a < b < c tests whether a is less than b and b is less than c.[108] C-derived languages interpret this expression differently: in C, the expression would first evaluate a < b, resulting in 0 or 1, and that result would then be compared with c.[109]\\r\\n\\r\\nPython uses arbitrary-precision arithmetic for all integer operations. The Decimal type/class in the decimal module provides decimal floating-point numbers to a pre-defined arbitrary precision and several rounding modes.[110] The Fraction class in the fractions module provides arbitrary precision for rational numbers.[111]\\r\\n\\r\\nDue to Python\\'s extensive mathematics library, and the third-party library NumPy that further extends the native capabilities, it is frequently used as a scientific scripting language to aid in problems such as numerical data processing and manipulation.[112][113]\\r\\nProgramming examples\\r\\nHello world program:\\r\\n\\r\\nprint(\\'Hello, world!\\')\\r\\nProgram to calculate the factorial of a positive integer:\\r\\n\\r\\nn = int(input(\\'Type a number, and its factorial will be printed: \\'))\\r\\n\\r\\nif n < 0:\\r\\n    raise ValueError(\\'You must enter a non-negative integer\\')\\r\\n\\r\\nfactorial = 1\\r\\nfor i in range(2, n + 1):\\r\\n    factorial *= i\\r\\n\\r\\nprint(factorial)\\r\\nLibraries\\r\\nPython\\'s large standard library, commonly cited as one of its greatest strengths,[114] provides tools suited to many tasks. For Internet-facing applications, many standard formats and protocols such as MIME and HTTP are supported. It includes modules for creating graphical user interfaces, connecting to relational databases, generating pseudorandom numbers, arithmetic with arbitrary-precision decimals,[115] manipulating regular expressions, and unit testing.\\r\\n\\r\\nSome parts of the standard library are covered by specifications (for example, the Web Server Gateway Interface (WSGI) implementation wsgiref follows PEP 333[116]), but most modules are not. They are specified by their code, internal documentation, and test suites. However, because most of the standard library is cross-platform Python code, only a few modules need altering or rewriting for variant implementations.\\r\\n\\r\\nAs of September 2021, the Python Package Index (PyPI), the official repository for third-party Python software, contains over 329,000[117] packages with a wide range of functionality, including:\\r\\n\\r\\nAutomation\\r\\nData analytics\\r\\nDatabases\\r\\nDocumentation\\r\\nGraphical user interfaces\\r\\nImage processing\\r\\nMachine learning\\r\\nMobile App\\r\\nMultimedia\\r\\nComputer networking\\r\\nScientific computing\\r\\nSystem administration\\r\\nTest frameworks\\r\\nText processing\\r\\nWeb frameworks\\r\\nWeb scraping\\r\\nDevelopment environments\\r\\nSee also: Comparison of integrated development environments § Python\\r\\nMost Python implementations (including CPython) include a read–eval–print loop (REPL), permitting them to function as a command line interpreter for which the user enters statements sequentially and receives results immediately.\\r\\n\\r\\nOther shells, including IDLE and IPython, add further abilities such as improved auto-completion, session state retention and syntax highlighting.\\r\\n\\r\\nAs well as standard desktop integrated development environments, there are Web browser-based IDEs; SageMath (intended for developing science and math-related Python programs); PythonAnywhere, a browser-based IDE and hosting environment; and Canopy IDE, a commercial Python IDE emphasizing scientific computing.[118]\\r\\nنيوبملمينبل\\r\\nImplementations\\r\\nSee also: List of Python software § Python implementations\\r\\nReference implementation\\r\\nCPython is the reference implementation of Python. It is written in C, meeting the C89 standard with several select C99 features (with later C versions out, it\\'s considered outdated;[119][120] CPython includes its own C extensions, but third-party extensions are not limited to older C versions, can e.g. be implemented with C11 or C++[121]).[122] It compiles Python programs into an intermediate bytecode[123] which is then executed by its virtual machine.[124] CPython is distributed with a large standard library written in a mixture of C and native Python. It is available for many platforms, including Windows (starting with Python 3.9, the Python installer deliberately fails to install on Windows 7 and 8;[125][126] Windows XP was supported until Python 3.5) and most modern Unix-like systems, including macOS (and Apple M1 Macs, since Python 3.9.1, with experimental installer) and unofficial support for e.g. VMS.[127] Platform portability was one of its earliest priorities,[128] during the Python 1 and Python 2 time-frame, even OS/2 and Solaris were supported;[129] support has since been dropped for a lot of platforms.\\r\\n\\r\\nOther implementations\\r\\nPyPy is a fast, compliant interpreter of Python 2.7 and 3.6.[130] Its just-in-time compiler brings a significant speed improvement over CPython but several libraries written in C cannot be used with it.[131]\\r\\nStackless Python is a significant fork of CPython that implements microthreads; it does not use the call stack in the same way, thus allowing massively concurrent programs. PyPy also has a stackless version.[132]\\r\\nMicroPython and CircuitPython are Python 3 variants optimized for microcontrollers, including Lego Mindstorms EV3.[133]\\r\\nPyston is a variant of the Python runtime that uses just-in-time compilation to speed up the execution of Python programs.[134]\\r\\nCinder is a performance-oriented fork of CPython 3.8 that contains a number of optimizations including bytecode inline caching, eager evaluation of coroutines, a method-at-a-time JIT and an experimental bytecode compiler.[135]\\r\\nUnsupported implementations\\r\\nOther just-in-time Python compilers have been developed, but are now unsupported:\\r\\n\\r\\nGoogle began a project named Unladen Swallow in 2009, with the aim of speeding up the Python interpreter fivefold by using the LLVM, and of improving its multithreading ability to scale to thousands of cores,[136] while ordinary implementations suffer from the global interpreter lock.\\r\\nPsyco is a discontinued just-in-time specializing compiler that integrates with CPython and transforms bytecode to machine code at runtime. The emitted code is specialized for certain data types and is faster than the standard Python code. Psyco does not support Python 2.7 or later.\\r\\nPyS60 was a Python 2 interpreter for Series 60 mobile phones released by Nokia in 2005. It implemented many of the modules from the standard library and some additional modules for integrating with the Symbian operating system. The Nokia N900 also supports Python with GTK widget libraries, enabling programs to be written and run on the target device.[137]\\r\\nCross-compilers to other languages\\r\\nThere are several compilers to high-level object languages, with either unrestricted Python, a restricted subset of Python, or a language similar to Python as the source language:\\r\\n\\r\\nCython compiles (a superset of) Python 2.7 to C (while the resulting code is also usable with Python 3 and also e.g. C++).\\r\\nNuitka compiles Python into C++.[138]\\r\\nPythran compiles a subset of Python 3 to C++.[139][140][141]\\r\\nPyrex (latest release in 2010) and Shed Skin (latest release in 2013) compile to C and C++ respectively.\\r\\nGoogle\\'s Grumpy (latest release in 2017) transpiles Python 2 to Go.[142][143][144]\\r\\nIronPython (now abandoned by Microsoft) allows running Python 2.7 programs on the .NET Common Language Runtime.[145]\\r\\nJython compiles Python 2.7 to Java bytecode, allowing the use of the Java libraries from a Python program.[146]\\r\\nMyHDL is a Python-based hardware description language (HDL), that converts MyHDL code to Verilog or VHDL code.\\r\\nNumba uses LLVM to compile a subset of Python to machine code.\\r\\nBrython,[147] Transcrypt[148][149] and Pyjs (latest release in 2012) compile Python to JavaScript.\\r\\nRPython can be compiled to C, and is used to build the PyPy interpreter of Python.\\r\\nPerformance\\r\\nA performance comparison of various Python implementations on a non-numerical (combinatorial) workload was presented at EuroSciPy \\'13.[150] Python\\'s performance compared to other programming languages is also benchmarked by The Computer Language Benchmarks Game.[151]\\r\\n\\r\\nDevelopment\\r\\nPython\\'s development is conducted largely through the Python Enhancement Proposal (PEP) process, the primary mechanism for proposing major new features, collecting community input on issues and documenting Python design decisions.[152] Python coding style is covered in PEP 8.[153] Outstanding PEPs are reviewed and commented on by the Python community and the steering council.[152]\\r\\n\\r\\nEnhancement of the language corresponds with development of the CPython reference implementation. The mailing list python-dev is the primary forum for the language\\'s development. Specific issues are discussed in the Roundup bug tracker hosted at bugs.python.org.[154] Development originally took place on a self-hosted source-code repository running Mercurial, until Python moved to GitHub in January 2017.[155]\\r\\n\\r\\nCPython\\'s public releases come in three types, distinguished by which part of the version number is incremented:\\r\\n\\r\\nBackward-incompatible versions, where code is expected to break and needs to be manually ported. The first part of the version number is incremented. These releases happen infrequently—version 3.0 was released 8 years after 2.0.\\r\\nMajor or \"feature\" releases, occurred about every 18 months but with the adoption of a yearly release cadence starting with Python 3.9 are expected to happen once a year.[156][157] They are largely compatible but introduce new features. The second part of the version number is incremented. Each major version is supported by bugfixes for several years after its release.[158]\\r\\nBugfix releases,[159] which introduce no new features, occur about every 3 months and are made when a sufficient number of bugs have been fixed upstream since the last release. Security vulnerabilities are also patched in these releases. The third and final part of the version number is incremented.[159]\\r\\nMany alpha, beta, and release-candidates are also released as previews and for testing before final releases. Although there is a rough schedule for each release, they are often delayed if the code is not ready. Python\\'s development team monitors the state of the code by running the large unit test suite during development.[160]\\r\\n\\r\\nThe major academic conference on Python is PyCon. There are also special Python mentoring programmes, such as Pyladies.\\r\\n\\r\\nPython 3.10 deprecates wstr (to be removed in Python 3.12; meaning Python extensions[161] need to be modified by then),[162] and also plans to add pattern matching to the language.[163]\\r\\n\\r\\nAPI documentation generators\\r\\nTools that can generate documentation for Python API include pydoc (available as part of standard library), Sphinx, Pdoc and its forks, Doxygen and Graphviz, among others.[164]\\r\\n\\r\\nNaming\\r\\nPython\\'s name is derived from the British comedy group Monty Python, whom Python creator Guido van Rossum enjoyed while developing the language. Monty Python references appear frequently in Python code and culture;[165] for example, the metasyntactic variables often used in Python literature are spam and eggs instead of the traditional foo and bar.[165][166] The official Python documentation also contains various references to Monty Python routines.[167][168]\\r\\n\\r\\nThe prefix Py- is used to show that something is related to Python. Examples of the use of this prefix in names of Python applications or libraries include Pygame, a binding of SDL to Python (commonly used to create games); PyQt and PyGTK, which bind Qt and GTK to Python respectively; and PyPy, a Python implementation originally written in Python.\\r\\n\\r\\nPopularity\\r\\nSince 2003, Python has consistently ranked in the top ten most popular programming languages in the TIOBE Programming Community Index where, as of February 2021, it is the third most popular language (behind Java, and C).[169] It was selected Programming Language of the Year (for \"the highest rise in ratings in a year\") in 2007, 2010, 2018, and 2020 (the only language to do so four times[170]).[171]\\r\\n\\r\\nAn empirical study found that scripting languages, such as Python, are more productive than conventional languages, such as C and Java, for programming problems involving string manipulation and search in a dictionary, and determined that memory consumption was often \"better than Java and not much worse than C or C++\".[172]\\r\\n\\r\\nLarge organizations that use Python include Wikipedia, Google,[173] Yahoo!,[174] CERN,[175] NASA,[176] Facebook,[177] Amazon, Instagram,[178] Spotify[179] and some smaller entities like ILM[180] and ITA.[181] The social news networking site Reddit was written mostly in Python.[182]\\r\\n_________________________________________\\r\\nstackoverflow blog stackoverflow blog stackoverflow blog\\r\\nHere\\'s a collection of resources on how to get started using Python.\\r\\n\\r\\nGetting started with… Python\\r\\nIn this series, we look at the most loved languages according to the Stack Overflow developer survey, examine the spread and use cases for each of them, and collect some essential links on how to get started using the language. Up now, #3 on our list: Python.\\r\\n\\r\\nPython is consistently featured amongst the top most loved languages in our Developer Survey. In 2020, 66.7% of respondents said they want to keep working with Python. Conceived in the late 80s, it’s one of the older languages on our list, coming just below newcomers Rust (2010) and TypeScript (2012)—evidence that original designer Guido van Rossum got a lot right.\\r\\nPython’s quirky name—in honor of the cult comedy show, Monty Python—belies the fact that this is a hugely expressive language. While it’s not primarily used for performance-intensive programming, it’s often highly efficient to write, and programs tend to be clear and readable. This makes it ideally suited for applications like data science and web development, and it’s used in a wide range of fields, from healthcare and finance to VFX and AI.\\r\\n\\r\\nSome  regard it as an ideal language for beginners: many terms are expressed using English words rather than symbols, its strict rules about whitespace mean all programs are visually consistent, and code written in Python is often more concise than the equivalent in other languages.\\r\\nHistory of use\\r\\nTrending tags on Stackoverflow.com\\r\\n\\r\\nAlthough Python has been around since the 1.0 release in 1991, its usage has ballooned in recent years. Indeed, as our former data scientist David Robinson noted, since 2012, it has risen above the five other major languages (C++, PHP, Java, JavaScript and C#) in usage as estimated by the number of Stack Overflow question views per month. TIOBE’s 2021 index ranks Python as third in popularity at 10.86%, rapidly gaining on C and Java (16.34% and 11.29% respectively). Today, 44 % of developers and technologists around the world are using Python. \\r\\n\\r\\nUntil recently the language design and development was lead by a single person—Dutch computer scientist Guido van Rossum, who stepped down as Python’s “Benevolent Dictator For Life” in 2018 but has remained an active contributor to this day.\\r\\n\\r\\nWho is using it?\\r\\nPython is more or less ubiquitous—it would be faster to list industries that don’t use it in some form. While it’s not the language of choice for consumer applications like 3D games or mobile apps, even companies developing these applications frequently use Python for tools and utilities. It is also commonly embedded into software products for automation and scripting purposes—for example, in the VFX field, nearly all of the major software packages (Maya, 3Ds Max, Houdini, Cinema 4D, Blender, and Nuke) have embedded Python interpreters, allowing users to add functionality or automate tasks. It’s used more or less everywhere on Earth and, well, even on Mars.\\r\\n\\r\\nIn fact, if you’re reading this on a Mac, you already have Python installed on your computer—just go to Terminal, type ‘python’, and away you go…\\r\\n\\r\\nWho is it for?\\r\\nStudents\\r\\nThe use of short English keywords instead of symbols makes Python particularly friendly for beginners. See the example below.\\r\\n\\r\\nAdditionally, Python handles a lot of memory management automatically, so you’ll spend less time dealing with pointers and references and so on than in a language like C++.\\r\\n\\r\\nIt comes bundled with a free IDE (integrated development environment), IDLE, so you can get started quickly. In case you’re wondering, yes, IDLE is a reference to Monty Python’s Eric Idle—if you use Python you’re going to be bombarded with references to vintage British comedy.\\r\\n\\r\\nDevelopers who prioritize ease of programming over execution speed\\r\\nWhile Python typically runs slower than other common languages like C++ or Java, it’s often much quicker to write—indeed, some estimates suggest a typical program in Python is three to five times shorter than its Java equivalent and five to ten times shorter than the C++ version.\\r\\n\\r\\nThis is one of the reasons it’s often used as a “support language”—software developers rely on it for tasks like build control, automated testing, and bug tracking. For the same reason, it’s also used for prototyping—code can be “hacked together” quickly to test ideas, before perhaps rewriting in a more performant language.\\r\\n\\r\\nDevelopers working with text or numbers\\r\\nPython’s powerful String and List manipulation functions make it a great choice for anyone working with text or numbers. And it’s a great tool for exploring data. \\r\\n\\r\\nThe fact that it doesn’t need compiling means you can rapidly iterate on a program, and, by running Python interactively, you can intuitively manipulate data step-by-step, examining it at each stage.\\r\\n\\r\\nPython’s core functionality can be extended with a huge arsenal of ‘packages’, many of which are widely used by the scientific and academic communities, as well as fintech and engineering. These include the venerable NumPy (mathematical functions and data analysis), SciPy (for science), Matplotlib (data visualization) and Pandas (data analysis), and more recently TensorFlow and Keras (Machine Learning/AI), as well as tens of thousands of others.\\r\\n\\r\\nWeb developers\\r\\nAnother key area of Python use is backend development. It has built-in support for common protocols like HTML, XML, and JSON, and frameworks like Django, Flask, and Bottle are used widely—for example, Reddit’s backend is Python. Python powers advanced content management, email automation, and more.\\r\\n\\r\\nWhy you shouldn’t learn it\\r\\nThere’s a lot to like about Python, but it’s not always the perfect tool for the job.\\r\\n\\r\\nPerhaps most importantly, Python is an interpreted language, as opposed to a compiled language like C++. While that means there’s no sitting around waiting for your code to compile, it also means the computer has to do extra work every time the program runs, inherently limiting performance. So you’re probably not going to be writing the next blockbuster 60FPS first-person shooter in Python, but it’s perfect for situations like data manipulation where you’re likely to spend more time writing the program than running it.\\r\\n\\r\\nAdditionally, Python’s somewhat unusual syntax means that—if it’s your first language—not all of the knowledge you gain will be transferable to other languages, although many of the underlying concepts are identical. For example, the reduced reliance on brackets and braces, the use of English words instead of symbols, and the enforced usage of whitespace mean that a program in Python may be visually structured in a very different way to the equivalent code in Java or C++.\\r\\n\\r\\nHowever, these downsides are often a small price to pay for the many benefits, as evidenced by its ubiquity.\\r\\n\\r\\nKey concepts\\r\\nThe core philosophies are summarized—in Pythonic fashion—in “The Zen Of Python.” These include:\\r\\n\\r\\n“Readability counts\\r\\nSimple is better than complex\\r\\nThere should be one—and preferably only one—obvious way to do it”\\r\\nIn case you were wondering, The Zen Of Python is available in catchy musical form here.\\r\\n\\r\\nResources\\r\\nOfficial\\r\\nThe official tutorial is a quick primer on all the basics, perfect for getting up and running quickly.\\r\\nThe Python language reference provides full documentation in a no-nonsense manner that is “terse, but attempts to be exact and complete.”\\r\\nFollowing the official PEP-8 Style Guide will make your code more readable to other programmers, including the most crucial audience of all—your future self.  \\r\\nThe official site also offers an enormous wealth of information, tutorials, and also features curated content in dozens of languages.\\r\\nEntry-level\\r\\nLearnPython.org offers a quick, well-thought-out series of basic lessons, and provides a friendly browser-based Python interface to experiment with.\\r\\nCode The Blocks provides an engaging series of beginner exercises, using a browser-based Python interpreter to manipulate a 3D scene.\\r\\nFreeCodeCamp.org offers a free video course that will take you from novice to intermediate in four hours.\\r\\nThe classic How to Think Like a Computer Scientist is available in a Python 3 edition that will get you up to speed on Python syntax while providing insights that will be valuable in any language.\\r\\nWhile not Python-exclusive, Project Euler offers a set of challenges that are perfect for flexing your new-found Python muscles. The site is a sequence of over 700 mathematical puzzles, to which the answer is always a single integer, and the problems range from the trivial to the extremely difficult. You can of course find hints and tips on Stack Overflow—no cheating though!\\r\\nProject Rosalind offers a similarly structured set of problems—this time from the field of Bioinformatics—that function as both an introduction to Python and molecular biology.\\r\\nAdvanced\\r\\nالااالالا- الاالااابل\\r\\nننانلانم لاملن  مالمانى ممنللاللان منبللا \\r\\nThe Hitchhiker’s Guide to Python! A hands-on guide for prob \\r\\nMoving To Python From Other Languages offers a quick guide to Python concepts and gotchas.\\r\\nRafe Kettler’s A Guide to Python’s Magic Methods offers a detailed explanation of “Magic Methods”—the Python-specific built-in functions like `__init__()` that you may have been using without even thinking about\\r\\nPython is generally considered to be simple to learn if you already understand the general concepts of programming… although Learn Python in 10 Minutes is a pretty bold claim!\\r\\nOther resources\\r\\nIf you didn’t have time for the 10 minutes one, how about Learn Python in 5 Minutes? It actually runs over by a minute or so, but it’s still a pretty impressive speedrun of the basics.\\r\\n20004684\\r\\n1000 \\r\\nkmfdlv@gmail.com\\r\\nlfkmdlf@yahoo.com\\r\\nkskmd_lkfsdf@yahoo.com\\r\\n$10 million dollars, in 1999 and in 10-19-2021 [11]\\r\\n\\r\\n\\r\\n\\r\\n\\r\\n'"
            ],
            "application/vnd.google.colaboratory.intrinsic+json": {
              "type": "string"
            }
          },
          "metadata": {},
          "execution_count": 32
        },
        {
          "output_type": "stream",
          "name": "stdout",
          "text": [
            "time: 4.53 ms (started: 2022-08-16 23:45:40 +00:00)\n"
          ]
        }
      ]
    },
    {
      "cell_type": "markdown",
      "source": [
        "# preprocessing "
      ],
      "metadata": {
        "id": "9tdz-RXQDwkh"
      }
    },
    {
      "cell_type": "code",
      "source": [
        ""
      ],
      "metadata": {
        "colab": {
          "base_uri": "https://localhost:8080/"
        },
        "id": "oLSGuvUtD1e2",
        "outputId": "2054172f-bfe5-461d-fae5-b4d729ef6eba"
      },
      "execution_count": null,
      "outputs": [
        {
          "output_type": "stream",
          "name": "stdout",
          "text": [
            "time: 1.23 ms (started: 2022-08-16 23:48:17 +00:00)\n"
          ]
        }
      ]
    },
    {
      "cell_type": "code",
      "source": [
        "def remove_non_ascii(text):\n",
        "    #Remove non-ASCII characters from list of tokenized words\n",
        "    return unicodedata.normalize('NFKD', text).encode('ascii', 'ignore').decode('utf-8', 'ignore')\n",
        "def to_lowercase(text):\n",
        "    return text.lower()\n",
        "\n",
        "def remove_new_line(text):\n",
        "    return re.sub ('[\\t\\n\\r\\f\\v]','',text)\n",
        "\n",
        "def remove_ar_word(text):\n",
        "    return  re.sub('[^a-zA-z0-9@-_.% \"]', '',text)  \n",
        "\n",
        "def remove_whitespaces(text):\n",
        "    return text.strip()\n",
        "\n",
        "def remove_email(text):\n",
        "  return re.sub('\\S*@\\S*\\s?','',text)    \n"
      ],
      "metadata": {
        "colab": {
          "base_uri": "https://localhost:8080/"
        },
        "id": "3Iz2YprUEJif",
        "outputId": "8d3ea249-0942-4458-ca0f-69ab2e123d7e"
      },
      "execution_count": 61,
      "outputs": [
        {
          "output_type": "stream",
          "name": "stdout",
          "text": [
            "time: 3.21 ms (started: 2022-08-17 01:28:43 +00:00)\n"
          ]
        }
      ]
    },
    {
      "cell_type": "code",
      "source": [
        "def clean_text( text):\n",
        "    text = remove_non_ascii(text)\n",
        "    text = to_lowercase(text)\n",
        "    text = remove_new_line(text)\n",
        "    text = remove_ar_word(text)\n",
        "    text = remove_whitespaces(text)\n",
        "    text = remove_email(text)\n",
        "\n",
        "    return text\n"
      ],
      "metadata": {
        "colab": {
          "base_uri": "https://localhost:8080/"
        },
        "id": "A1QneAkgE7iy",
        "outputId": "e8bb0f53-b992-4437-91f7-4d93e3b97757"
      },
      "execution_count": 62,
      "outputs": [
        {
          "output_type": "stream",
          "name": "stdout",
          "text": [
            "time: 1.43 ms (started: 2022-08-17 01:28:44 +00:00)\n"
          ]
        }
      ]
    },
    {
      "cell_type": "code",
      "source": [
        "text = clean_text(text)"
      ],
      "metadata": {
        "colab": {
          "base_uri": "https://localhost:8080/"
        },
        "id": "j5UFdVNvMqYd",
        "outputId": "14123325-2bd9-4749-bf4f-37410f6bcd94"
      },
      "execution_count": 63,
      "outputs": [
        {
          "output_type": "stream",
          "name": "stdout",
          "text": [
            "time: 5.51 ms (started: 2022-08-17 01:28:45 +00:00)\n"
          ]
        }
      ]
    },
    {
      "cell_type": "code",
      "source": [
        "text"
      ],
      "metadata": {
        "colab": {
          "base_uri": "https://localhost:8080/",
          "height": 1000
        },
        "id": "ZZIdGdlCMv-x",
        "outputId": "9a0648b4-6da5-486a-a262-106312f30859"
      },
      "execution_count": 64,
      "outputs": [
        {
          "output_type": "execute_result",
          "data": {
            "text/plain": [
              "'python programming languagefrom wikipedia the free encyclopediapython is an interpreted highlevel generalpurpose programming language. its design philosophy emphasizes code readability with its use of significant indentation. its language constructs as well as its objectoriented approach aim to help programmers write clear logical code for small and largescale projects.python is dynamicallytyped and garbagecollected. it supports multiple programming paradigms including structured particularly procedural objectoriented and functional programming. it is often described as a \"batteries included\" language due to its comprehensive standard library.guido van rossum began working on python in the late 1980s as a successor to the abc programming language and first released it in 1991 as python 0.9.0. python 2.0 was released in 2000 and introduced new features such as list comprehensions and a garbage collection system using reference counting. python 3.0 was released in 2008 and was a major revision of the language that is not completely backwardcompatible. python 2 was discontinued with version 2.7.18 in 2020.python consistently ranks as one of the most popular programming languages.historypython was conceived in the late 1980s by guido van rossum at centrum wiskunde  informatica cwi in the netherlands as a successor to abc programming language which was inspired by setl capable of exception handling and interfacing with the amoeba operating system. its implementation began in december 1989. van rossum shouldered sole responsibility for the project as the lead developer until 12 july 2018 when he announced his \"permanent vacation\" from his responsibilities as pythons \"benevolent dictator for life\" a title the python community bestowed upon him to reflect his longterm commitment as the projects chief decisionmaker. in january 2019 active python core developers elected a fivemember \"steering council\" to lead the project.python 2.0 was released on 16 october 2000 with many major new features including a cycledetecting garbage collector and support for unicode.python 3.0 was released on 3 december 2008. it was a major revision of the language that is not completely backwardcompatible. many of its major features were backported to python 2.6.x and 2.7.x version series. releases of python 3 include the 2to3 utility which automates the translation of python 2 code to python 3.python 2.7s endoflife date was initially set at 2015 then postponed to 2020 out of concern that a large body of existing code could not easily be forwardported to python 3. no more security patches or other improvements will be released for it. with python 2s endoflife only python 3.6.x and later are supported.python 3.9.2 and 3.8.8 were expedited as all versions of python including 2.7 had security issues leading to possible remote code execution and web cache poisoning.design philosophy and featurespython is a multiparadigm programming language. objectoriented programming and structured programming are fully supported and many of its features support functional programming and aspectoriented programming including by metaprogramming and metaobjects magic methods. many other paradigms are supported via extensions including design by contract and logic programming.python uses dynamic typing and a combination of reference counting and a cycledetecting garbage collector for memory management. it also features dynamic name resolution late binding which binds method and variable names during program execution.pythons design offers some support for functional programming in the lisp tradition. it has filtermapandreduce functions list comprehensions dictionaries sets and generator expressions. the standard library has two modules itertools and functools that implement functional tools borrowed from haskell and standard ml.the languages core philosophy is summarized in the document the zen of python pep 20 which includes aphorisms such asbeautiful is better than ugly.explicit is better than implicit.simple is better than complex.complex is better than complicated.readability counts.rather than having all of its functionality built into its core python was designed to be highly extensible with modules. this compact modularity has made it particularly popular as a means of adding programmable interfaces to existing applications. van rossums vision of a small core language with a large standard library and easily extensible interpreter stemmed from his frustrations with abc which espoused the opposite approach. it is often described as a \"batteries included\" language due to its comprehensive standard library.python strives for a simpler lesscluttered syntax and grammar while giving developers a choice in their coding methodology. in contrast to perls \"there is more than one way to do it\" motto python embraces a \"there should be one and preferably only one obvious way to do it\" design philosophy. alex martelli a fellow at the python software foundation and python book author writes that \"to describe something as clever is not considered a compliment in the python culture.\"pythons developers strive to avoid premature optimization and reject patches to noncritical parts of the cpython reference implementation that would offer marginal increases in speed at the cost of clarity. when speed is important a python programmer can move timecritical functions to extension modules written in languages such as c or use pypy a justintime compiler. cython is also available which translates a python script into c and makes direct clevel api calls into the python interpreter.pythons developers aim for the language to be fun to use. this is reflected in its namea tribute to the british comedy group monty pythonand in occasionally playful approaches to tutorials and reference materials such as examples that refer to spam and eggs a reference to a monty python sketch instead of the standard foo and bar.a common neologism in the python community is pythonic which can have a wide range of meanings related to program style. to say that code is pythonic is to say that it uses python idioms well that it is natural or shows fluency in the language that it conforms with pythons minimalist philosophy and emphasis on readability. in contrast code that is difficult to understand or reads like a rough transcription from another programming language is called unpythonic.users and admirers of python especially those considered knowledgeable or experienced are often referred to as pythonistas.syntax and semanticsmain article python syntax and semanticspython is meant to be an easily readable language. its formatting is visually uncluttered and it often uses english keywords where other languages use punctuation. unlike many other languages it does not use curly brackets to delimit blocks and semicolons after statements are allowed but are rarely if ever used. it has fewer syntactic exceptions and special cases than c or pascal.indentationmain article python syntax and semantics  indentationpython uses whitespace indentation rather than curly brackets or keywords to delimit blocks. an increase in indentation comes after certain statements a decrease in indentation signifies the end of the current block. thus the programs visual structure accurately represents the programs semantic structure. this feature is sometimes termed the offside rule which some other languages share but in most languages indentation does not have any semantic meaning. the recommended indent size is four spaces.statements and control flowpythons statements include among othersthe assignment statement using a single equals sign .the if statement which conditionally executes a block of code along with else and elif a contraction of elseif.the for statement which iterates over an iterable object capturing each element to a local variable for use by the attached block.the while statement which executes a block of code as long as its condition is true.the try statement which allows exceptions raised in its attached code block to be caught and handled by except clauses it also ensures that cleanup code in a finally block will always be run regardless of how the block exits.the raise statement used to raise a specified exception or reraise a caught exception.the class statement which executes a block of code and attaches its local namespace to a class for use in objectoriented programming.    0 . the def statement which defines a function or method.the with statement which encloses a code block within a context manager for example acquiring a lock before the block of code is run and releasing the lock afterwards or opening a file and then closing it allowing resourceacquisitionisinitialization raiilike behavior and replaces a common tryfinally idiom.the break statement exits from a loop.the continue statement skips this iteration and continues with the next item.the del statement removes a variable which means the reference from the name to the value is deleted and trying to use that variable will cause an error. a deleted variable can be reassigned.the pass statement which serves as a nop. it is syntactically needed to create an empty code block.the assert statement used during debugging to check for conditions that should apply.the yield statement which returns a value from a generator function and yield is also an operator. this form is used to implement coroutines.the return statement used to return a value from a function.the import statement which is used to import modules whose functions or variables can be used in the current program.the assignment statement  operates by binding a name as a reference to a separate dynamicallyallocated object. variables may subsequently be rebound at any time to any object. in python a variable name is a generic reference holder and does not have a fixed data type associated with it. however at a given time a variable will refer to some object which will have a type. this is referred to as dynamic typing and is contrasted with staticallytyped programming languages where each variable may only contain values of a certain type.python does not support tail call optimization or firstclass continuations and according to guido van rossum it never will. however better support for coroutinelike functionality is provided by extending pythons generators. before 2.5 generators were lazy iterators information was passed unidirectionally out of the generator. from python 2.5 it is possible to pass information back into a generator function and from python 3.3 the information can be passed through multiple stack levels.expressionssome python expressions are similar to those found in languages such as c and java while some are notaddition subtraction and multiplication are the same but the behavior of division differs. there are two types of divisions in python. they are floor division or integer division  and floatingpointdivision. python also uses the  operator for exponentiation.from python 3.5 the new infix operator was introduced. it is intended to be used by libraries such as numpy for matrix multiplication.from python 3.8 the syntax  called the walrus operator was introduced. it assigns values to variables as part of a larger expression.in python  compares by value versus java which compares numerics by value and objects by reference. value comparisons in java on objects can be performed with the equals method. pythons is operator may be used to compare object identities comparison by reference. in python comparisons may be chained for example a  b  c.python uses the words and or not for its boolean operators rather than the symbolic    used in java and c.python has a type of expression termed a list comprehension as well as a more general expression termed a generator expression.anonymous functions are implemented using lambda expressions however these are limited in that the body can only be one expression.conditional expressions in python are written as x if c else y different in order of operands from the c  x  y operator common to many other languages.python makes a distinction between lists and tuples. lists are written as [1 2 3] are mutable and cannot be used as the keys of dictionaries dictionary keys must be immutable in python. tuples are written as 1 2 3 are immutable and thus can be used as the keys of dictionaries provided all elements of the tuple are immutable. the  operator can be used to concatenate two tuples which does not directly modify their contents but rather produces a new tuple containing the elements of both provided tuples. thus given the variable t initially equal to 1 2 3 executing t  t  4 5 first evaluates t  4 5 which yields 1 2 3 4 5 which is then assigned back to t thereby effectively \"modifying the contents\" of t while conforming to the immutable nature of tuple objects. parentheses are optional for tuples in unambiguous contexts.python features sequence unpacking wherein multiple expressions each evaluating to anything that can be assigned to a variable a writable property etc. are associated in an identical manner to that forming tuple literals and as a whole are put on the lefthand side of the equal sign in an assignment statement. the statement expects an iterable object on the righthand side of the equal sign that produces the same number of values as the provided writable expressions when iterated through and will iterate through it assigning each of the produced values to the corresponding expression on the left.python has a \"string format\" operator %. this functions analogously to printf format strings in c e.g. \"spam%s eggs%d\" % \"blah\" 2 evaluates to \"spamblah eggs2\". in python 3 and 2.6 this was supplemented by the format method of the str class e.g. \"spam0 eggs1\".format\"blah\" 2. python 3.6 added \"fstrings\" blah  \"blah\" eggs  2 fspamblah eggseggs.strings in python can be concatenated by \"adding\" them same operator as for adding integers and floats. e.g. \"spam\"  \"eggs\" returns \"spameggs\". even if your strings contain numbers they are still added as strings rather than integers. e.g. \"2\"  \"2\" returns \"22\".python has various kinds of string literalsstrings delimited by single or double quote marks. unlike in unix shells perl and perlinfluenced languages single quote marks and double quote marks function identically. both kinds of string use the backslash \\\\ as an escape character. string interpolation became available in python 3.6 as \"formatted string literals\".triplequoted strings which begin and end with a series of three single or double quote marks. they may span multiple lines and function like here documents in shells perl and ruby.raw string varieties denoted by prefixing the string literal with an r. escape sequences are not interpreted hence raw strings are useful where literal backslashes are common such as regular expressions and windowsstyle paths. compare in c.python has array index and array slicing expressions on lists denoted as a[key] a[startstop] or a[startstopstep]. indexes are zerobased and negative indexes are relative to the end. slices take elements from the start index up to but not including the stop index. the third slice parameter called step or stride allows elements to be skipped and reversed. slice indexes may be omitted for example a[] returns a copy of the entire list. each element of a slice is a shallow copy.in python a distinction between expressions and statements is rigidly enforced in contrast to languages such as common lisp scheme or ruby. this leads to duplicating some functionality. for examplelist comprehensions vs. forloopsconditional expressions vs. if blocksthe eval vs. exec builtin functions in python 2 exec is a statement the former is for expressions the latter is for statements.statements cannot be a part of an expression so list and other comprehensions or lambda expressions all being expressions cannot contain statements. a particular case of this is that an assignment statement such as a  1 cannot form part of the conditional expression of a conditional statement. this has the advantage of avoiding a classic c error of mistaking an assignment operator  for an equality operator  in conditions if c  1  ...  is syntactically valid but probably unintended c code but if c  1 ... causes a syntax error in python.methodsmethods on objects are functions attached to the objects class the syntax instance.methodargument is for normal methods and functions syntactic sugar for class.methodinstance argument. python methods have an explicit self parameter to access instance data in contrast to the implicit self or this in some other objectoriented programming languages e.g. c java objectivec or ruby. apart from this python also provides methods often called dunder methods due to their names beginning and ending with doubleunderscores to allow userdefined classes to modify how they are handled by native operations such as length comparison in arithmetic operations type conversion and many more.typingpython uses duck typing and has typed objects but untyped variable names. type constraints are not checked at compile time rather operations on an object may fail signifying that the given object is not of a suitable type. despite being dynamicallytyped python is stronglytyped forbidding operations that are not welldefined for example adding a number to a string rather than silently attempting to make sense of them.python allows programmers to define their own types using classes which are most often used for objectoriented programming. new instances of classes are constructed by calling the class for example spamclass or eggsclass and the classes are instances of the metaclass type itself an instance of itself allowing metaprogramming and reflection.before version 3.0 python had two kinds of classes oldstyle and newstyle. the syntax of both styles is the same the difference being whether the class object is inherited from directly or indirectly all newstyle classes inherit from object and are instances of type. in versions of python 2 from python 2.2 onwards both kinds of classes can be used. oldstyle classes were eliminated in python 3.0.the longterm plan is to support gradual typing and from python 3.5 the syntax of the language allows specifying static types but they are not checked in the default implementation cpython. an experimental optional static type checker named mypy supports compiletime type checking.arithmetic operationspython has the usual symbols for arithmetic operators     the floor division operator  and the modulo operation % where the remainder can be negative e.g. 4 % 3  2. it also has  for exponentiation e.g. 53  125 and 90.5  3.0 and a matrixmultiplication operator . these operators work like in traditional math with the same precedence rules the operators infix  and  can also be unary to represent positive and negative numbers respectively.the division between integers produces floatingpoint results. the behavior of division has changed significantly over timecurrent python i.e. since 3.0 changed  to always be floatingpoint division e.g. 52  2.5.python 2.2 changed integer division to round towards negative infinity e.g. 73  2 and 73  3. the floor division  operator was introduced. so 73  2 73  3 7.53  2.0 and 7.53  3.0. adding from __future__ import division causes a module to use python 3.0 rules for division see next.python 2.1 and earlier used cs division behavior. the  operator is integer division if both operands are integers and floatingpoint division otherwise. integer division rounds towards 0 e.g. 73  2 and 73  2.in python terms  is true division or simply division and  is floor division.  before version 3.0 is classic division.rounding towards negative infinity though different from most languages adds consistency. for instance it means that the equation a  bb  ab  1 is always true. it also means that the equation bab  a%b  a is valid for both positive and negative values of a. however maintaining the validity of this equation means that while the result of a%b is as expected in the halfopen interval [0 b where b is a positive integer it has to lie in the interval b 0] when b is negative.python provides a round function for rounding a float to the nearest integer. for tiebreaking python 3 uses round to even round1.5 and round2.5 both produce 2. versions before 3 used roundawayfromzero round0.5 is 1.0 round0.5 is 1.0.python allows boolean expressions with multiple equality relations in a manner that is consistent with general use in mathematics. for example the expression a  b  c tests whether a is less than b and b is less than c. cderived languages interpret this expression differently in c the expression would first evaluate a  b resulting in 0 or 1 and that result would then be compared with c.python uses arbitraryprecision arithmetic for all integer operations. the decimal typeclass in the decimal module provides decimal floatingpoint numbers to a predefined arbitrary precision and several rounding modes. the fraction class in the fractions module provides arbitrary precision for rational numbers.due to pythons extensive mathematics library and the thirdparty library numpy that further extends the native capabilities it is frequently used as a scientific scripting language to aid in problems such as numerical data processing and manipulation.programming exampleshello world programprinthello worldprogram to calculate the factorial of a positive integern  intinputtype a number and its factorial will be printed if n  0    raise valueerroryou must enter a nonnegative integerfactorial  1for i in range2 n  1    factorial  iprintfactoriallibrariespythons large standard library commonly cited as one of its greatest strengths provides tools suited to many tasks. for internetfacing applications many standard formats and protocols such as mime and http are supported. it includes modules for creating graphical user interfaces connecting to relational databases generating pseudorandom numbers arithmetic with arbitraryprecision decimals manipulating regular expressions and unit testing.some parts of the standard library are covered by specifications for example the web server gateway interface wsgi implementation wsgiref follows pep 333 but most modules are not. they are specified by their code internal documentation and test suites. however because most of the standard library is crossplatform python code only a few modules need altering or rewriting for variant implementations.as of september 2021 the python package index pypi the official repository for thirdparty python software contains over 329000 packages with a wide range of functionality includingautomationdata analyticsdatabasesdocumentationgraphical user interfacesimage processingmachine learningmobile appmultimediacomputer networkingscientific computingsystem administrationtest frameworkstext processingweb frameworksweb scrapingdevelopment environmentssee also comparison of integrated development environments  pythonmost python implementations including cpython include a readevalprint loop repl permitting them to function as a command line interpreter for which the user enters statements sequentially and receives results immediately.other shells including idle and ipython add further abilities such as improved autocompletion session state retention and syntax highlighting.as well as standard desktop integrated development environments there are web browserbased ides sagemath intended for developing science and mathrelated python programs pythonanywhere a browserbased ide and hosting environment and canopy ide a commercial python ide emphasizing scientific computing.implementationssee also list of python software  python implementationsreference implementationcpython is the reference implementation of python. it is written in c meeting the c89 standard with several select c99 features with later c versions out its considered outdated cpython includes its own c extensions but thirdparty extensions are not limited to older c versions can e.g. be implemented with c11 or c. it compiles python programs into an intermediate bytecode which is then executed by its virtual machine. cpython is distributed with a large standard library written in a mixture of c and native python. it is available for many platforms including windows starting with python 3.9 the python installer deliberately fails to install on windows 7 and 8 windows xp was supported until python 3.5 and most modern unixlike systems including macos and apple m1 macs since python 3.9.1 with experimental installer and unofficial support for e.g. vms. platform portability was one of its earliest priorities during the python 1 and python 2 timeframe even os2 and solaris were supported support has since been dropped for a lot of platforms.other implementationspypy is a fast compliant interpreter of python 2.7 and 3.6. its justintime compiler brings a significant speed improvement over cpython but several libraries written in c cannot be used with it.stackless python is a significant fork of cpython that implements microthreads it does not use the call stack in the same way thus allowing massively concurrent programs. pypy also has a stackless version.micropython and circuitpython are python 3 variants optimized for microcontrollers including lego mindstorms ev3.pyston is a variant of the python runtime that uses justintime compilation to speed up the execution of python programs.cinder is a performanceoriented fork of cpython 3.8 that contains a number of optimizations including bytecode inline caching eager evaluation of coroutines a methodatatime jit and an experimental bytecode compiler.unsupported implementationsother justintime python compilers have been developed but are now unsupportedgoogle began a project named unladen swallow in 2009 with the aim of speeding up the python interpreter fivefold by using the llvm and of improving its multithreading ability to scale to thousands of cores while ordinary implementations suffer from the global interpreter lock.psyco is a discontinued justintime specializing compiler that integrates with cpython and transforms bytecode to machine code at runtime. the emitted code is specialized for certain data types and is faster than the standard python code. psyco does not support python 2.7 or later.pys60 was a python 2 interpreter for series 60 mobile phones released by nokia in 2005. it implemented many of the modules from the standard library and some additional modules for integrating with the symbian operating system. the nokia n900 also supports python with gtk widget libraries enabling programs to be written and run on the target device.crosscompilers to other languagesthere are several compilers to highlevel object languages with either unrestricted python a restricted subset of python or a language similar to python as the source languagecython compiles a superset of python 2.7 to c while the resulting code is also usable with python 3 and also e.g. c.nuitka compiles python into c.pythran compiles a subset of python 3 to c.pyrex latest release in 2010 and shed skin latest release in 2013 compile to c and c respectively.googles grumpy latest release in 2017 transpiles python 2 to go.ironpython now abandoned by microsoft allows running python 2.7 programs on the .net common language runtime.jython compiles python 2.7 to java bytecode allowing the use of the java libraries from a python program.myhdl is a pythonbased hardware description language hdl that converts myhdl code to verilog or vhdl code.numba uses llvm to compile a subset of python to machine code.brython transcrypt and pyjs latest release in 2012 compile python to javascript.rpython can be compiled to c and is used to build the pypy interpreter of python.performancea performance comparison of various python implementations on a nonnumerical combinatorial workload was presented at euroscipy 13. pythons performance compared to other programming languages is also benchmarked by the computer language benchmarks game.developmentpythons development is conducted largely through the python enhancement proposal pep process the primary mechanism for proposing major new features collecting community input on issues and documenting python design decisions. python coding style is covered in pep 8. outstanding peps are reviewed and commented on by the python community and the steering council.enhancement of the language corresponds with development of the cpython reference implementation. the mailing list pythondev is the primary forum for the languages development. specific issues are discussed in the roundup bug tracker hosted at bugs.python.org. development originally took place on a selfhosted sourcecode repository running mercurial until python moved to github in january 2017.cpythons public releases come in three types distinguished by which part of the version number is incrementedbackwardincompatible versions where code is expected to break and needs to be manually ported. the first part of the version number is incremented. these releases happen infrequentlyversion 3.0 was released 8 years after 2.0.major or \"feature\" releases occurred about every 18 months but with the adoption of a yearly release cadence starting with python 3.9 are expected to happen once a year. they are largely compatible but introduce new features. the second part of the version number is incremented. each major version is supported by bugfixes for several years after its release.bugfix releases which introduce no new features occur about every 3 months and are made when a sufficient number of bugs have been fixed upstream since the last release. security vulnerabilities are also patched in these releases. the third and final part of the version number is incremented.many alpha beta and releasecandidates are also released as previews and for testing before final releases. although there is a rough schedule for each release they are often delayed if the code is not ready. pythons development team monitors the state of the code by running the large unit test suite during development.the major academic conference on python is pycon. there are also special python mentoring programmes such as pyladies.python 3.10 deprecates wstr to be removed in python 3.12 meaning python extensions need to be modified by then and also plans to add pattern matching to the language.api documentation generatorstools that can generate documentation for python api include pydoc available as part of standard library sphinx pdoc and its forks doxygen and graphviz among others.namingpythons name is derived from the british comedy group monty python whom python creator guido van rossum enjoyed while developing the language. monty python references appear frequently in python code and culture for example the metasyntactic variables often used in python literature are spam and eggs instead of the traditional foo and bar. the official python documentation also contains various references to monty python routines.the prefix py is used to show that something is related to python. examples of the use of this prefix in names of python applications or libraries include pygame a binding of sdl to python commonly used to create games pyqt and pygtk which bind qt and gtk to python respectively and pypy a python implementation originally written in python.popularitysince 2003 python has consistently ranked in the top ten most popular programming languages in the tiobe programming community index where as of february 2021 it is the third most popular language behind java and c. it was selected programming language of the year for \"the highest rise in ratings in a year\" in 2007 2010 2018 and 2020 the only language to do so four times.an empirical study found that scripting languages such as python are more productive than conventional languages such as c and java for programming problems involving string manipulation and search in a dictionary and determined that memory consumption was often \"better than java and not much worse than c or c\".large organizations that use python include wikipedia google yahoo cern nasa facebook amazon instagram spotify and some smaller entities like ilm and ita. the social news networking site reddit was written mostly in python._________________________________________stackoverflow blog stackoverflow blog stackoverflow blogheres a collection of resources on how to get started using python.getting started with... pythonin this series we look at the most loved languages according to the stack overflow developer survey examine the spread and use cases for each of them and collect some essential links on how to get started using the language. up now 3 on our list python.python is consistently featured amongst the top most loved languages in our developer survey. in 2020 66.7% of respondents said they want to keep working with python. conceived in the late 80s its one of the older languages on our list coming just below newcomers rust 2010 and typescript 2012evidence that original designer guido van rossum got a lot right.pythons quirky namein honor of the cult comedy show monty pythonbelies the fact that this is a hugely expressive language. while its not primarily used for performanceintensive programming its often highly efficient to write and programs tend to be clear and readable. this makes it ideally suited for applications like data science and web development and its used in a wide range of fields from healthcare and finance to vfx and ai.some  regard it as an ideal language for beginners many terms are expressed using english words rather than symbols its strict rules about whitespace mean all programs are visually consistent and code written in python is often more concise than the equivalent in other languages.history of usetrending tags on stackoverflow.comalthough python has been around since the 1.0 release in 1991 its usage has ballooned in recent years. indeed as our former data scientist david robinson noted since 2012 it has risen above the five other major languages c php java javascript and c in usage as estimated by the number of stack overflow question views per month. tiobes 2021 index ranks python as third in popularity at 10.86% rapidly gaining on c and java 16.34% and 11.29% respectively. today 44 % of developers and technologists around the world are using python. until recently the language design and development was lead by a single persondutch computer scientist guido van rossum who stepped down as pythons benevolent dictator for life in 2018 but has remained an active contributor to this day.who is using itpython is more or less ubiquitousit would be faster to list industries that dont use it in some form. while its not the language of choice for consumer applications like 3d games or mobile apps even companies developing these applications frequently use python for tools and utilities. it is also commonly embedded into software products for automation and scripting purposesfor example in the vfx field nearly all of the major software packages maya 3ds max houdini cinema 4d blender and nuke have embedded python interpreters allowing users to add functionality or automate tasks. its used more or less everywhere on earth and well even on mars.in fact if youre reading this on a mac you already have python installed on your computerjust go to terminal type python and away you go...who is it forstudentsthe use of short english keywords instead of symbols makes python particularly friendly for beginners. see the example below.additionally python handles a lot of memory management automatically so youll spend less time dealing with pointers and references and so on than in a language like c.it comes bundled with a free ide integrated development environment idle so you can get started quickly. in case youre wondering yes idle is a reference to monty pythons eric idleif you use python youre going to be bombarded with references to vintage british comedy.developers who prioritize ease of programming over execution speedwhile python typically runs slower than other common languages like c or java its often much quicker to writeindeed some estimates suggest a typical program in python is three to five times shorter than its java equivalent and five to ten times shorter than the c version.this is one of the reasons its often used as a support languagesoftware developers rely on it for tasks like build control automated testing and bug tracking. for the same reason its also used for prototypingcode can be hacked together quickly to test ideas before perhaps rewriting in a more performant language.developers working with text or numberspythons powerful string and list manipulation functions make it a great choice for anyone working with text or numbers. and its a great tool for exploring data. the fact that it doesnt need compiling means you can rapidly iterate on a program and by running python interactively you can intuitively manipulate data stepbystep examining it at each stage.pythons core functionality can be extended with a huge arsenal of packages many of which are widely used by the scientific and academic communities as well as fintech and engineering. these include the venerable numpy mathematical functions and data analysis scipy for science matplotlib data visualization and pandas data analysis and more recently tensorflow and keras machine learningai as well as tens of thousands of others.web developersanother key area of python use is backend development. it has builtin support for common protocols like html xml and json and frameworks like django flask and bottle are used widelyfor example reddits backend is python. python powers advanced content management email automation and more.why you shouldnt learn ittheres a lot to like about python but its not always the perfect tool for the job.perhaps most importantly python is an interpreted language as opposed to a compiled language like c. while that means theres no sitting around waiting for your code to compile it also means the computer has to do extra work every time the program runs inherently limiting performance. so youre probably not going to be writing the next blockbuster 60fps firstperson shooter in python but its perfect for situations like data manipulation where youre likely to spend more time writing the program than running it.additionally pythons somewhat unusual syntax means thatif its your first languagenot all of the knowledge you gain will be transferable to other languages although many of the underlying concepts are identical. for example the reduced reliance on brackets and braces the use of english words instead of symbols and the enforced usage of whitespace mean that a program in python may be visually structured in a very different way to the equivalent code in java or c.however these downsides are often a small price to pay for the many benefits as evidenced by its ubiquity.key conceptsthe core philosophies are summarizedin pythonic fashionin the zen of python. these includereadability countssimple is better than complexthere should be oneand preferably only oneobvious way to do itin case you were wondering the zen of python is available in catchy musical form here.resourcesofficialthe official tutorial is a quick primer on all the basics perfect for getting up and running quickly.the python language reference provides full documentation in a nononsense manner that is terse but attempts to be exact and complete.following the official pep8 style guide will make your code more readable to other programmers including the most crucial audience of allyour future self.  the official site also offers an enormous wealth of information tutorials and also features curated content in dozens of languages.entrylevellearnpython.org offers a quick wellthoughtout series of basic lessons and provides a friendly browserbased python interface to experiment with.code the blocks provides an engaging series of beginner exercises using a browserbased python interpreter to manipulate a 3d scene.freecodecamp.org offers a free video course that will take you from novice to intermediate in four hours.the classic how to think like a computer scientist is available in a python 3 edition that will get you up to speed on python syntax while providing insights that will be valuable in any language.while not pythonexclusive project euler offers a set of challenges that are perfect for flexing your newfound python muscles. the site is a sequence of over 700 mathematical puzzles to which the answer is always a single integer and the problems range from the trivial to the extremely difficult. you can of course find hints and tips on stack overflowno cheating thoughproject rosalind offers a similarly structured set of problemsthis time from the field of bioinformaticsthat function as both an introduction to python and molecular biology.advanced       the hitchhikers guide to python a handson guide for prob moving to python from other languages offers a quick guide to python concepts and gotchas.rafe kettlers a guide to pythons magic methods offers a detailed explanation of magic methodsthe pythonspecific builtin functions like `__init__` that you may have been using without even thinking aboutpython is generally considered to be simple to learn if you already understand the general concepts of programming... although learn python in 10 minutes is a pretty bold claimother resourcesif you didnt have time for the 10 minutes one how about learn python in 5 minutes it actually runs over by a minute or so but its still a pretty impressive speedrun of the basics.200046841000 million dollars in 1999 and in 10192021'"
            ],
            "application/vnd.google.colaboratory.intrinsic+json": {
              "type": "string"
            }
          },
          "metadata": {},
          "execution_count": 64
        },
        {
          "output_type": "stream",
          "name": "stdout",
          "text": [
            "time: 4.71 ms (started: 2022-08-17 01:28:48 +00:00)\n"
          ]
        }
      ]
    },
    {
      "cell_type": "code",
      "source": [
        ""
      ],
      "metadata": {
        "id": "k_ceTODOM1MH"
      },
      "execution_count": null,
      "outputs": []
    },
    {
      "cell_type": "markdown",
      "source": [
        "# keyphrase extraction model"
      ],
      "metadata": {
        "id": "dq9EycvOODHa"
      }
    },
    {
      "cell_type": "code",
      "source": [
        "extractor = pke.unsupervised.TfIdf()\n",
        "extractor.load_document(input=text, language='en')\n",
        "extractor.candidate_selection()\n",
        "extractor.candidate_weighting()\n",
        "keyphrases = extractor.get_n_best(n=20)\n",
        "keyphrases\n"
      ],
      "metadata": {
        "colab": {
          "base_uri": "https://localhost:8080/"
        },
        "id": "AXHYw17rOFBl",
        "outputId": "450fd0f9-43e9-47d0-8a6d-457f594b1d4c"
      },
      "execution_count": 65,
      "outputs": [
        {
          "output_type": "stream",
          "name": "stderr",
          "text": [
            "WARNING:root:LoadFile._df_counts is hard coded to /usr/local/lib/python3.7/dist-packages/pke/models/df-semeval2010.tsv.gz\n"
          ]
        },
        {
          "output_type": "execute_result",
          "data": {
            "text/plain": [
              "[('python', 1001.4954394835863),\n",
              " ('language', 87.11931812710414),\n",
              " ('released', 79.49772725037336),\n",
              " ('cpython', 71.79909090014934),\n",
              " ('compiler', 70.68907195617511),\n",
              " ('code', 67.67066041130894),\n",
              " ('statements', 65.91753633778606),\n",
              " ('division', 58.75647872652731),\n",
              " ('van rossum', 57.439272720119476),\n",
              " ('rossum', 57.439272720119476),\n",
              " ('standard library', 57.439272720119476),\n",
              " ('programming', 54.48517370742992),\n",
              " ('syntax', 53.4377909464033),\n",
              " ('monty', 50.259363630104545),\n",
              " ('string', 49.09527741609624),\n",
              " ('library', 47.69863635022402),\n",
              " ('java', 45.149761328589335),\n",
              " ('van', 44.75957271435023),\n",
              " ('indentation', 43.07945454008961),\n",
              " ('objectoriented', 43.07945454008961)]"
            ]
          },
          "metadata": {},
          "execution_count": 65
        },
        {
          "output_type": "stream",
          "name": "stdout",
          "text": [
            "time: 4.13 s (started: 2022-08-17 01:29:03 +00:00)\n"
          ]
        }
      ]
    },
    {
      "cell_type": "code",
      "source": [
        "extractor = pke.unsupervised.TopicRank()\n",
        "extractor.load_document(input=text, language='en')\n",
        "extractor.candidate_selection()\n",
        "extractor.candidate_weighting()\n",
        "keyphrases = extractor.get_n_best(n=20)\n",
        "keyphrases"
      ],
      "metadata": {
        "colab": {
          "base_uri": "https://localhost:8080/"
        },
        "id": "mRb25376O286",
        "outputId": "0ea846e8-1a14-4629-d800-fdda42fdcce3"
      },
      "execution_count": 66,
      "outputs": [
        {
          "output_type": "execute_result",
          "data": {
            "text/plain": [
              "[('python programming', 0.07058257969178723),\n",
              " ('highlevel generalpurpose programming language', 0.01631708064816525),\n",
              " ('code readability', 0.014057244422207944),\n",
              " ('programming', 0.012200102438469779),\n",
              " ('statements', 0.011740592178935107),\n",
              " ('generator expressions', 0.010537683795409054),\n",
              " ('operator', 0.009849012062475904),\n",
              " ('functional programming', 0.009825611193064483),\n",
              " ('examples', 0.00964255437095875),\n",
              " ('string format', 0.008277630921137178),\n",
              " ('variable names', 0.008253565774264837),\n",
              " ('dynamic typing', 0.008220376172146725),\n",
              " ('class', 0.00805118315347633),\n",
              " ('blocks', 0.00746951883031398),\n",
              " ('separate dynamicallyallocated object', 0.007316345030229541),\n",
              " ('division', 0.0069992564140486414),\n",
              " ('reference counting', 0.006819462820547959),\n",
              " ('releases', 0.006814006325307924),\n",
              " ('version', 0.006772675178368914),\n",
              " ('standard library', 0.006622060999404375)]"
            ]
          },
          "metadata": {},
          "execution_count": 66
        },
        {
          "output_type": "stream",
          "name": "stdout",
          "text": [
            "time: 5.93 s (started: 2022-08-17 01:29:12 +00:00)\n"
          ]
        }
      ]
    },
    {
      "cell_type": "code",
      "source": [
        "extractor = pke.unsupervised.KPMiner()\n",
        "extractor.load_document(input=text, language='en')\n",
        "extractor.candidate_selection()\n",
        "extractor.candidate_weighting()\n",
        "keyphrases = extractor.get_n_best(n=20)\n",
        "keyphrases"
      ],
      "metadata": {
        "colab": {
          "base_uri": "https://localhost:8080/"
        },
        "id": "EPkhj8v9PDAR",
        "outputId": "1e90a690-64d3-44a5-9253-41a4fa8fc577"
      },
      "execution_count": 67,
      "outputs": [
        {
          "output_type": "stream",
          "name": "stderr",
          "text": [
            "WARNING:root:LoadFile._df_counts is hard coded to /usr/local/lib/python3.7/dist-packages/pke/models/df-semeval2010.tsv.gz\n"
          ]
        },
        {
          "output_type": "execute_result",
          "data": {
            "text/plain": [
              "[('python', 1001.4954394835863),\n",
              " ('programming language', 215.39727270044804),\n",
              " ('van rossum', 172.31781816035843),\n",
              " ('new features', 107.69863635022402),\n",
              " ('guido van', 107.69863635022402),\n",
              " ('guido van rossum', 107.69863635022402),\n",
              " ('language', 87.11931812710414),\n",
              " ('released', 79.49772725037336),\n",
              " ('code', 67.67066041130894),\n",
              " ('python programming', 64.6191818101344),\n",
              " ('functional programming', 64.6191818101344),\n",
              " ('list comprehensions', 64.6191818101344),\n",
              " ('python community', 64.6191818101344),\n",
              " ('rossum', 57.439272720119476),\n",
              " ('programming', 54.48517370742992),\n",
              " ('van', 44.75957271435023),\n",
              " ('indentation', 43.07945454008961),\n",
              " ('objectoriented', 43.07945454008961),\n",
              " ('guido', 35.89954545007467),\n",
              " ('philosophy', 33.569679535762674)]"
            ]
          },
          "metadata": {},
          "execution_count": 67
        },
        {
          "output_type": "stream",
          "name": "stdout",
          "text": [
            "time: 4.26 s (started: 2022-08-17 01:29:22 +00:00)\n"
          ]
        }
      ]
    },
    {
      "cell_type": "code",
      "source": [
        "extractor = pke.unsupervised.YAKE()\n",
        "extractor.load_document(input=text, language='en')\n",
        "extractor.candidate_selection()\n",
        "extractor.candidate_weighting()\n",
        "keyphrases = extractor.get_n_best(n=20)\n",
        "keyphrases"
      ],
      "metadata": {
        "colab": {
          "base_uri": "https://localhost:8080/"
        },
        "id": "5E8n5cvQPOCa",
        "outputId": "aa4ed8fb-166f-401d-8169-6d31c811f79b"
      },
      "execution_count": 68,
      "outputs": [
        {
          "output_type": "execute_result",
          "data": {
            "text/plain": [
              "[('python', 0.0011737094102197351),\n",
              " ('language', 0.009948596258835074),\n",
              " ('code', 0.011695080647365687),\n",
              " ('programming', 0.013387497639475157),\n",
              " ('statement', 0.01676209001711798),\n",
              " ('use', 0.01916297146247809),\n",
              " ('use python', 0.022225908398965585),\n",
              " ('programming language', 0.022241508041885148),\n",
              " ('python code', 0.025171211029221253),\n",
              " ('division', 0.025460830007335938),\n",
              " ('standard', 0.029935272580649982),\n",
              " ('like', 0.03152089030012309),\n",
              " ('operator', 0.0316363223183602),\n",
              " ('expressions', 0.0331713471310868),\n",
              " ('java', 0.03367868065907812),\n",
              " ('reference', 0.033843859489014055),\n",
              " ('monty python', 0.037127949367087895),\n",
              " ('including', 0.038885013125369586),\n",
              " ('python programming languagefrom', 0.03890375956652392),\n",
              " ('python syntax', 0.04049851906434444)]"
            ]
          },
          "metadata": {},
          "execution_count": 68
        },
        {
          "output_type": "stream",
          "name": "stdout",
          "text": [
            "time: 2.3 s (started: 2022-08-17 01:29:26 +00:00)\n"
          ]
        }
      ]
    },
    {
      "cell_type": "code",
      "source": [
        "extractor = pke.unsupervised.TextRank()\n",
        "extractor.load_document(input=text, language='en')\n",
        "extractor.candidate_selection()\n",
        "extractor.candidate_weighting()\n",
        "keyphrases = extractor.get_n_best(n=20)\n",
        "keyphrases"
      ],
      "metadata": {
        "colab": {
          "base_uri": "https://localhost:8080/"
        },
        "id": "5761RAkVPZfx",
        "outputId": "c14c2fb2-642e-4e4f-eaaa-b8c895bae34d"
      },
      "execution_count": 69,
      "outputs": [
        {
          "output_type": "execute_result",
          "data": {
            "text/plain": [
              "[('python language reference', 0.044447865101226725),\n",
              " ('standard python code', 0.0411142317968744),\n",
              " ('multiple stack levels.expressionssome python expressions',\n",
              "  0.04010940732144015),\n",
              " ('active python core developers', 0.039680167530481),\n",
              " ('python programming', 0.03791521436319258),\n",
              " ('terminal type python', 0.037666164639209875),\n",
              " ('pythons extensive mathematics library', 0.03642701255800458),\n",
              " ('python interpreter.pythons developers', 0.0363693290269864),\n",
              " ('python code', 0.036293690471559614),\n",
              " ('pythons development team', 0.03608828523616144),\n",
              " ('python package index', 0.03457402459712868),\n",
              " ('python creator guido van rossum', 0.034526874842424594),\n",
              " ('monty python references', 0.03433790567226249),\n",
              " ('official python documentation', 0.03431149259246248),\n",
              " ('various python implementations', 0.03376347134136173),\n",
              " ('pascal.indentationmain article python syntax', 0.033610828640645095),\n",
              " ('python interpreter fivefold', 0.033237728648782994),\n",
              " ('pythons magic methods', 0.033205844968828814),\n",
              " ('pythonmost python implementations', 0.03298398840723009),\n",
              " ('article python syntax', 0.03296045319688437)]"
            ]
          },
          "metadata": {},
          "execution_count": 69
        },
        {
          "output_type": "stream",
          "name": "stdout",
          "text": [
            "time: 1.65 s (started: 2022-08-17 01:29:28 +00:00)\n"
          ]
        }
      ]
    },
    {
      "cell_type": "code",
      "source": [
        "extractor = pke.unsupervised.SingleRank()\n",
        "extractor.load_document(input=text, language='en')\n",
        "extractor.candidate_selection()\n",
        "extractor.candidate_weighting()\n",
        "keyphrases = extractor.get_n_best(n=20)\n",
        "keyphrases"
      ],
      "metadata": {
        "colab": {
          "base_uri": "https://localhost:8080/"
        },
        "id": "0Mm0JoI3PiZU",
        "outputId": "07bb05b3-74bd-49c6-ce4e-8a82e361f61a"
      },
      "execution_count": 70,
      "outputs": [
        {
          "output_type": "execute_result",
          "data": {
            "text/plain": [
              "[('python language reference', 0.07956960897256125),\n",
              " ('standard python code', 0.07053281062005162),\n",
              " ('python programming', 0.06738961458333526),\n",
              " ('active python core developers', 0.06696705163340926),\n",
              " ('multiple stack levels.expressionssome python expressions',\n",
              "  0.06673877197456099),\n",
              " ('python creator guido van rossum', 0.06575323747977137),\n",
              " ('pythons extensive mathematics library', 0.06466915647826052),\n",
              " ('python code', 0.06431579169358949),\n",
              " ('python interpreter.pythons developers', 0.06352443562837964),\n",
              " ('pythons development team', 0.06348762754757697),\n",
              " ('monty python references', 0.0626285360660368),\n",
              " ('terminal type python', 0.06163945438613564),\n",
              " ('pascal.indentationmain article python syntax', 0.060677777042833725),\n",
              " ('various python implementations', 0.06064727756924518),\n",
              " ('justintime python compilers', 0.06041576542941749),\n",
              " ('python package index', 0.060313613296272946),\n",
              " ('official python documentation', 0.06030001478332986),\n",
              " ('article python syntax', 0.06003450442707881),\n",
              " ('pythons magic methods', 0.06003371619523935),\n",
              " ('pythonmost python implementations', 0.059967646484129916)]"
            ]
          },
          "metadata": {},
          "execution_count": 70
        },
        {
          "output_type": "stream",
          "name": "stdout",
          "text": [
            "time: 1.65 s (started: 2022-08-17 01:29:30 +00:00)\n"
          ]
        }
      ]
    },
    {
      "cell_type": "code",
      "source": [
        "extractor = pke.unsupervised.TopicalPageRank()\n",
        "extractor.load_document(input=text, language='en')\n",
        "extractor.candidate_selection()\n",
        "extractor.candidate_weighting()\n",
        "keyphrases = extractor.get_n_best(n=20)\n",
        "keyphrases"
      ],
      "metadata": {
        "colab": {
          "base_uri": "https://localhost:8080/"
        },
        "id": "KsD0v8I9PsSg",
        "outputId": "fc04417e-1074-4901-893f-a539b11f077a"
      },
      "execution_count": 71,
      "outputs": [
        {
          "output_type": "stream",
          "name": "stderr",
          "text": [
            "WARNING:root:LDA model is hard coded to /usr/local/lib/python3.7/dist-packages/pke/models/lda-1000-semeval2010.py3.pickle.gz\n",
            "/usr/local/lib/python3.7/dist-packages/sklearn/feature_extraction/text.py:401: UserWarning: Your stop_words may be inconsistent with your preprocessing. Tokenizing the stop words generated tokens ['ll', 've'] not in stop_words.\n",
            "  % sorted(inconsistent)\n"
          ]
        },
        {
          "output_type": "execute_result",
          "data": {
            "text/plain": [
              "[('python language reference', 0.0794442203288089),\n",
              " ('standard python code', 0.06951378319529808),\n",
              " ('python programming', 0.06633163766589377),\n",
              " ('multiple stack levels.expressionssome python expressions',\n",
              "  0.06605596538056846),\n",
              " ('active python core developers', 0.06588362830947381),\n",
              " ('python creator guido van rossum', 0.06365339226294477),\n",
              " ('python code', 0.06337106645472279),\n",
              " ('pythons development team', 0.0626613656222436),\n",
              " ('python interpreter.pythons developers', 0.06254045698882772),\n",
              " ('monty python references', 0.0618859535772327),\n",
              " ('terminal type python', 0.06097889885212213),\n",
              " ('various python implementations', 0.060125866928958556),\n",
              " ('python package index', 0.059365772495870925),\n",
              " ('official python documentation', 0.05919885463270882),\n",
              " ('pythonmost python implementations', 0.05903188366383124),\n",
              " ('pascal.indentationmain article python syntax', 0.05899545916816896),\n",
              " ('justintime python compilers', 0.058756877157174744),\n",
              " ('meaning python extensions', 0.058630555664617175),\n",
              " ('python implementation', 0.05859343686819439),\n",
              " ('article python syntax', 0.058495999496717396)]"
            ]
          },
          "metadata": {},
          "execution_count": 71
        },
        {
          "output_type": "stream",
          "name": "stdout",
          "text": [
            "time: 3.85 s (started: 2022-08-17 01:29:31 +00:00)\n"
          ]
        }
      ]
    },
    {
      "cell_type": "code",
      "source": [
        "extractor = pke.unsupervised.PositionRank()\n",
        "extractor.load_document(input=text, language='en')\n",
        "extractor.candidate_selection()\n",
        "extractor.candidate_weighting()\n",
        "keyphrases = extractor.get_n_best(n=20)\n",
        "keyphrases"
      ],
      "metadata": {
        "colab": {
          "base_uri": "https://localhost:8080/"
        },
        "id": "2UVpki9yP6b3",
        "outputId": "7abe5f91-c7f6-49ef-ea85-f0187f5b22db"
      },
      "execution_count": 72,
      "outputs": [
        {
          "output_type": "execute_result",
          "data": {
            "text/plain": [
              "[('python programming', 0.12687679189262402),\n",
              " ('python language reference', 0.12256045067207202),\n",
              " ('standard python code', 0.10871310782008697),\n",
              " ('python code', 0.10213983500630747),\n",
              " ('python interpreter.pythons developers', 0.09715679313275238),\n",
              " ('pythons development team', 0.09707702583930955),\n",
              " ('monty python references', 0.09696072582107129),\n",
              " ('python design decisions', 0.09580348093809407),\n",
              " ('terminal type python', 0.0952404249202261),\n",
              " ('various python implementations', 0.09404086548926088),\n",
              " ('python use', 0.09394982330327048),\n",
              " ('justintime python compilers', 0.09389461256354872),\n",
              " ('article python syntax', 0.09366994435263418),\n",
              " ('meaning python extensions', 0.09365967924972977),\n",
              " ('official python documentation', 0.0935762337747104),\n",
              " ('python package index', 0.09346362523423192),\n",
              " ('pythonmost python implementations', 0.09339523109579115),\n",
              " ('python implementation', 0.09300640661476643),\n",
              " ('python syntax', 0.09288546150889504),\n",
              " ('python interpreter', 0.09269070895796715)]"
            ]
          },
          "metadata": {},
          "execution_count": 72
        },
        {
          "output_type": "stream",
          "name": "stdout",
          "text": [
            "time: 2.01 s (started: 2022-08-17 01:29:35 +00:00)\n"
          ]
        }
      ]
    },
    {
      "cell_type": "code",
      "source": [
        "extractor = pke.unsupervised.MultipartiteRank()\n",
        "extractor.load_document(input=text, language='en')\n",
        "extractor.candidate_selection()\n",
        "extractor.candidate_weighting()\n",
        "keyphrases = extractor.get_n_best(n=20)\n",
        "keyphrases"
      ],
      "metadata": {
        "colab": {
          "base_uri": "https://localhost:8080/"
        },
        "id": "QfFYVmSvQmRI",
        "outputId": "88a45431-4cf0-4137-c7d7-f4754e6262d8"
      },
      "execution_count": 73,
      "outputs": [
        {
          "output_type": "execute_result",
          "data": {
            "text/plain": [
              "[('python programming', 0.11064806124033925),\n",
              " ('python', 0.02941461682373529),\n",
              " ('highlevel generalpurpose programming language', 0.01582629674794723),\n",
              " ('code readability', 0.010817913709934004),\n",
              " ('statements', 0.007957348054833894),\n",
              " ('functional programming', 0.007558672694093203),\n",
              " ('generator expressions', 0.007333658181124318),\n",
              " ('programming', 0.006982198310666922),\n",
              " ('language', 0.006765429590324075),\n",
              " ('wikipedia', 0.006661392225524531),\n",
              " ('operator', 0.005994694165642569),\n",
              " ('variable names', 0.005986512794376232),\n",
              " ('ides sagemath', 0.005924564808361719),\n",
              " ('standard library', 0.005717280665383722),\n",
              " ('use', 0.005610929386251507),\n",
              " ('intermediate bytecode', 0.0054954734830149005),\n",
              " ('dynamic typing', 0.005481186397110435),\n",
              " ('design philosophy', 0.00537653386190841),\n",
              " ('reference counting', 0.00522992255127974),\n",
              " ('free encyclopediapython', 0.005112311554234695)]"
            ]
          },
          "metadata": {},
          "execution_count": 73
        },
        {
          "output_type": "stream",
          "name": "stdout",
          "text": [
            "time: 10.7 s (started: 2022-08-17 01:29:37 +00:00)\n"
          ]
        }
      ]
    },
    {
      "cell_type": "code",
      "source": [
        ""
      ],
      "metadata": {
        "id": "29Hso55vQx8a"
      },
      "execution_count": null,
      "outputs": []
    }
  ]
}